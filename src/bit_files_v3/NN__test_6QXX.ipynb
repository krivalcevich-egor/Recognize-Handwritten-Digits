{
 "cells": [
  {
   "cell_type": "code",
   "execution_count": 1,
   "id": "d20bc2b8",
   "metadata": {},
   "outputs": [],
   "source": [
    "from pynq import Overlay\n",
    "from time import sleep\n",
    "import numpy as np\n",
    "import matplotlib.pyplot as plt\n",
    "import time \n",
    "import tqdm"
   ]
  },
  {
   "cell_type": "markdown",
   "id": "bbfd662d",
   "metadata": {},
   "source": [
    "#### NN module address"
   ]
  },
  {
   "cell_type": "code",
   "execution_count": 2,
   "id": "3e325483",
   "metadata": {},
   "outputs": [],
   "source": [
    "IP_CORE_VERSION = 0x00\n",
    "IP_CORE_ID      = (0x1)<<2\n",
    "IP_CORE_MAGIC   = (0x2)<<2\n",
    "IP_CORE_RESET   = (0x3)<<2\n",
    "IP_CORE_DIN     = (0x4)<<2\n",
    "IP_CORE_DOUT    = (0x5)<<2\n",
    "IP_CORE_DBG_CNT = (0x6)<<2\n",
    "IP_CORE_DBG_MAC0= (0x7)<<2\n",
    "IP_CORE_DBG_MEM0= (0x8)<<2"
   ]
  },
  {
   "cell_type": "markdown",
   "id": "9a90ff8e",
   "metadata": {},
   "source": [
    "### Connect and bring-up NN"
   ]
  },
  {
   "cell_type": "code",
   "execution_count": 36,
   "id": "11111c52",
   "metadata": {},
   "outputs": [
    {
     "name": "stdout",
     "output_type": "stream",
     "text": [
      "CORE ID = 0\n",
      "CORE MAGIC = 0x47465550\n",
      "CORE VERSION = 0x105\n"
     ]
    }
   ],
   "source": [
    "q_bits = 14\n",
    "platform = Overlay(f\"KE_nn_q{q_bits}.bit\")\n",
    "# platform?  # What is inside?\n",
    "neural_net = platform.KE_fc_nn_0\n",
    "\n",
    "core_ID = neural_net.read(IP_CORE_ID)\n",
    "core_magic = neural_net.read(IP_CORE_MAGIC)\n",
    "core_version = neural_net.read(IP_CORE_VERSION)\n",
    "\n",
    "print(f'CORE ID = {core_ID}')\n",
    "print(f'CORE MAGIC = {hex(core_magic)}')\n",
    "print(f'CORE VERSION = {hex(core_version)}')"
   ]
  },
  {
   "cell_type": "code",
   "execution_count": 37,
   "id": "e4aec60f",
   "metadata": {},
   "outputs": [
    {
     "name": "stdout",
     "output_type": "stream",
     "text": [
      "CNT at period #0 = 0x0\n",
      "CNT at period #1 = 0x1\n",
      "CNT at period #2 = 0x2\n",
      "CNT at period #3 = 0x3\n",
      "CNT at period #4 = 0x4\n"
     ]
    }
   ],
   "source": [
    "# Simple test 1: read counter\n",
    "\n",
    "## Reset\n",
    "neural_net.write(IP_CORE_RESET, 0x1)\n",
    "sleep(0.01)\n",
    "neural_net.write(IP_CORE_RESET, 0x0)\n",
    "sleep(0.01)\n",
    "\n",
    "for i in range(5):\n",
    "    cnt_data = neural_net.read(IP_CORE_DBG_CNT)\n",
    "    print(f'CNT at period #{i} = {hex(cnt_data)}')\n",
    "\n",
    "    neural_net.write(IP_CORE_DIN, i)"
   ]
  },
  {
   "cell_type": "code",
   "execution_count": 38,
   "id": "e1b58625",
   "metadata": {},
   "outputs": [
    {
     "name": "stdout",
     "output_type": "stream",
     "text": [
      "ROM_0[0] = 0xffdee\n",
      "ROM_0[1] = 0x12f\n",
      "ROM_0[2] = 0xfff5b\n",
      "ROM_0[3] = 0xfffb3\n",
      "ROM_0[4] = 0x164\n"
     ]
    }
   ],
   "source": [
    "# Simple test 2: read ROM_0\n",
    "\n",
    "## Reset\n",
    "neural_net.write(IP_CORE_RESET, 0x1)\n",
    "sleep(0.01)\n",
    "neural_net.write(IP_CORE_RESET, 0x0)\n",
    "sleep(0.01)\n",
    "\n",
    "for i in range(5):\n",
    "    mem0_data = neural_net.read(IP_CORE_DBG_MEM0)\n",
    "    print(f'ROM_0[{i}] = {hex(mem0_data)}')\n",
    "\n",
    "    neural_net.write(IP_CORE_DIN, i)"
   ]
  },
  {
   "cell_type": "code",
   "execution_count": 39,
   "id": "a10f1575",
   "metadata": {},
   "outputs": [
    {
     "name": "stdout",
     "output_type": "stream",
     "text": [
      "MAC_0[1] = 0xfffffd\n",
      "MAC_0[2] = 0xffffff\n",
      "MAC_0[3] = 0xfffffd\n",
      "MAC_0[4] = 0xfffffb\n"
     ]
    }
   ],
   "source": [
    "# Simple test 3: write to DIN sequence 1,2,3...\n",
    "# Reset\n",
    "neural_net.write(IP_CORE_RESET, 0x1)\n",
    "sleep(0.01)\n",
    "neural_net.write(IP_CORE_RESET, 0x0)\n",
    "sleep(0.01)\n",
    "\n",
    "seq = [1, 2, 3, 4]\n",
    "for i in seq:\n",
    "    neural_net.write(IP_CORE_DIN, i)\n",
    "    sleep(0.01)\n",
    "    mac0_data = neural_net.read(IP_CORE_DBG_MAC0)\n",
    "    print(f'MAC_0[{i}] = {hex(mac0_data)}')"
   ]
  },
  {
   "cell_type": "code",
   "execution_count": 18,
   "id": "d1deaed3",
   "metadata": {},
   "outputs": [],
   "source": [
    "# Loading data\n",
    "images = np.load(\"normalized_images.npy\")\n",
    "labels = np.load(\"MNIST_test_labels.npy\")"
   ]
  },
  {
   "cell_type": "code",
   "execution_count": 40,
   "id": "93d95a9e",
   "metadata": {},
   "outputs": [
    {
     "data": {
      "image/png": "[encoded data removed]",
      "text/plain": [
       "<Figure size 720x360 with 10 Axes>"
      ]
     },
     "metadata": {
      "needs_background": "light"
     },
     "output_type": "display_data"
    },
    {
     "name": "stdout",
     "output_type": "stream",
     "text": [
      "MAC_0 [final] = 0xff67cf\n",
      "CNT [final] = 784\n"
     ]
    }
   ],
   "source": [
    "# Main test: sending test image\n",
    "fig, ax = plt.subplots(figsize=(10,5), nrows=2, ncols=5)\n",
    "\n",
    "for n in range(10):\n",
    "    img_line = images[n,:]\n",
    "    # reset IP-core\n",
    "    neural_net.write(IP_CORE_RESET, 0x1)\n",
    "    sleep(0.001)\n",
    "    neural_net.write(IP_CORE_RESET, 0x0)\n",
    "    \n",
    "    # Send image to NN-IP\n",
    "    for i in range(len(img_line)):\n",
    "        pixel_cur = int(img_line[i]*128)\n",
    "        neural_net.write(IP_CORE_DIN, pixel_cur)\n",
    "        sleep(0.001)\n",
    "\n",
    "    nn_out = neural_net.read(IP_CORE_DOUT)\n",
    "#     print(f'Final result : ', hex(nn_out))\n",
    "    plt.subplot(2, 5, n + 1)\n",
    "    plt.imshow(img_line.reshape(28,-1), cmap='gray')\n",
    "    plt.title(f' NN = {nn_out}, label={labels[n]}')\n",
    "\n",
    "plt.show()\n",
    "mac0_data = neural_net.read(IP_CORE_DBG_MAC0)\n",
    "print(f'MAC_0 [final] = {hex(mac0_data)}')\n",
    "\n",
    "cnt_data = neural_net.read(IP_CORE_DBG_CNT)\n",
    "print(f'CNT [final] = {cnt_data}')"
   ]
  },
  {
   "cell_type": "markdown",
   "id": "540ba7ac",
   "metadata": {},
   "source": [
    "### Confusion matrix"
   ]
  },
  {
   "cell_type": "code",
   "execution_count": 41,
   "id": "068a7516",
   "metadata": {},
   "outputs": [],
   "source": [
    "# Empty confusion matrix\n",
    "def create_confusion_matrix(num_classes):\n",
    "    return np.zeros((num_classes, num_classes), dtype=int)\n",
    "\n",
    "# Update confusion matrix\n",
    "def update_confusion_matrix(conf_matrix, true_label, predicted_label):\n",
    "    conf_matrix[true_label][predicted_label] += 1\n",
    "    \n",
    "def predict(neural_net, img_line):\n",
    "    # reset IP-core\n",
    "    neural_net.write(IP_CORE_RESET, 0x1)\n",
    "    sleep(0.0001)\n",
    "    neural_net.write(IP_CORE_RESET, 0x0)\n",
    "    \n",
    "    # Send image to NN-IP\n",
    "    for i in range(len(img_line)):\n",
    "        pixel_cur = int(img_line[i]*128)\n",
    "        neural_net.write(IP_CORE_DIN, pixel_cur)\n",
    "        sleep(0.0002)\n",
    "\n",
    "    nn_out = neural_net.read(IP_CORE_DOUT)\n",
    "    \n",
    "    return nn_out"
   ]
  },
  {
   "cell_type": "code",
   "execution_count": null,
   "id": "b8b7d3bb",
   "metadata": {},
   "outputs": [
    {
     "name": "stdout",
     "output_type": "stream",
     "text": [
      "0/10000 time:<built-in function ctime>\n",
      "200/10000 time:<built-in function ctime>\n",
      "400/10000 time:<built-in function ctime>\n",
      "600/10000 time:<built-in function ctime>\n",
      "800/10000 time:<built-in function ctime>\n",
      "1000/10000 time:<built-in function ctime>\n",
      "1200/10000 time:<built-in function ctime>\n",
      "1400/10000 time:<built-in function ctime>\n",
      "1600/10000 time:<built-in function ctime>\n",
      "1800/10000 time:<built-in function ctime>\n",
      "2000/10000 time:<built-in function ctime>\n",
      "2200/10000 time:<built-in function ctime>\n",
      "2400/10000 time:<built-in function ctime>\n",
      "2600/10000 time:<built-in function ctime>\n",
      "2800/10000 time:<built-in function ctime>\n",
      "3000/10000 time:<built-in function ctime>\n",
      "3200/10000 time:<built-in function ctime>\n",
      "3400/10000 time:<built-in function ctime>\n",
      "3600/10000 time:<built-in function ctime>\n",
      "3800/10000 time:<built-in function ctime>\n",
      "4000/10000 time:<built-in function ctime>\n",
      "4200/10000 time:<built-in function ctime>\n",
      "4400/10000 time:<built-in function ctime>\n",
      "4600/10000 time:<built-in function ctime>\n",
      "4800/10000 time:<built-in function ctime>\n",
      "5000/10000 time:<built-in function ctime>\n",
      "5200/10000 time:<built-in function ctime>\n",
      "5400/10000 time:<built-in function ctime>\n",
      "5600/10000 time:<built-in function ctime>\n",
      "5800/10000 time:<built-in function ctime>\n",
      "6000/10000 time:<built-in function ctime>\n",
      "6200/10000 time:<built-in function ctime>\n",
      "6400/10000 time:<built-in function ctime>\n",
      "6600/10000 time:<built-in function ctime>\n",
      "6800/10000 time:<built-in function ctime>\n",
      "7000/10000 time:<built-in function ctime>\n",
      "7200/10000 time:<built-in function ctime>\n",
      "7400/10000 time:<built-in function ctime>\n",
      "7600/10000 time:<built-in function ctime>\n",
      "7800/10000 time:<built-in function ctime>\n",
      "8000/10000 time:<built-in function ctime>\n",
      "8200/10000 time:<built-in function ctime>\n",
      "8400/10000 time:<built-in function ctime>\n"
     ]
    }
   ],
   "source": [
    "num_classes = 10\n",
    "conf_matrix = create_confusion_matrix(num_classes)\n",
    "\n",
    "ts = time.time()\n",
    "for n in range(images.shape[0]):\n",
    "    img_line = images[n,:]\n",
    "    true_label = labels[n]\n",
    "    label_pred = predict(neural_net, img_line)\n",
    "    \n",
    "    update_confusion_matrix(conf_matrix, true_label, label_pred)\n",
    "    if n%200==0:\n",
    "        print(f\"{n}/{len(labels)} time:{time.ctime()}\")\n",
    "te = time.time()\n",
    "print(f\"Experiment time: {te-ts} sec \\n\")\n",
    "\n",
    "print(\"Confusion matrix:\")\n",
    "print(conf_matrix)\n",
    "np.save(f\"conf_matrix_6q{q_bits}.npy\", conf_matrix)"
   ]
  },
  {
   "cell_type": "markdown",
   "id": "5ec3ac93",
   "metadata": {},
   "source": [
    "# Test for all q_bits."
   ]
  },
  {
   "cell_type": "code",
   "execution_count": null,
   "id": "fb62cb68",
   "metadata": {},
   "outputs": [
    {
     "name": "stdout",
     "output_type": "stream",
     "text": [
      "Q = 10\n",
      "Processing for bit resolution: 10\n"
     ]
    },
    {
     "name": "stderr",
     "output_type": "stream",
     "text": [
      "100%|██████████| 10000/10000 [35:01<00:00,  4.76it/s]\n"
     ]
    },
    {
     "name": "stdout",
     "output_type": "stream",
     "text": [
      "Confusion matrix for bit resolution 10:\n",
      "[[ 964    0    2    2    0    2    8    1    1    0]\n",
      " [   0 1110    4    4    0    1    4    2   10    0]\n",
      " [  14    3  919   10   15    4   12   13   34    8]\n",
      " [   2    0   21  924    1   22    3    9   18   10]\n",
      " [   2    3    3    1  925    0   11    2    4   31]\n",
      " [  10    3    4   34   12  766   16   11   29    7]\n",
      " [  11    3    4    2    8   12  915    1    2    0]\n",
      " [   3    6   26    4    8    0    0  956    4   21]\n",
      " [   4    5    5   18    9   20   11   16  885    1]\n",
      " [  12    5    3   12   28   12    0   18   12  907]]\n",
      "Q = 9\n",
      "Processing for bit resolution: 9\n"
     ]
    },
    {
     "name": "stderr",
     "output_type": "stream",
     "text": [
      "100%|██████████| 10000/10000 [34:59<00:00,  4.76it/s]\n"
     ]
    },
    {
     "name": "stdout",
     "output_type": "stream",
     "text": [
      "Confusion matrix for bit resolution 9:\n",
      "[[ 964    0    2    2    0    2    8    1    1    0]\n",
      " [   0 1110    4    4    0    1    4    2   10    0]\n",
      " [  14    3  919   10   15    4   12   13   34    8]\n",
      " [   2    0   21  924    1   22    3    9   18   10]\n",
      " [   2    3    3    1  925    0   11    2    4   31]\n",
      " [  10    3    4   34   12  766   16   11   29    7]\n",
      " [  11    3    4    2    8   12  915    1    2    0]\n",
      " [   3    7   25    5    8    0    0  957    3   20]\n",
      " [   5    5    5   17    9   20   11   16  885    1]\n",
      " [  12    5    3   12   28   12    0   17   12  908]]\n",
      "Q = 8\n",
      "Processing for bit resolution: 8\n"
     ]
    },
    {
     "name": "stderr",
     "output_type": "stream",
     "text": [
      "100%|██████████| 10000/10000 [34:51<00:00,  4.78it/s]\n"
     ]
    },
    {
     "name": "stdout",
     "output_type": "stream",
     "text": [
      "Confusion matrix for bit resolution 8:\n",
      "[[ 964    0    2    2    0    2    8    1    1    0]\n",
      " [   0 1110    4    4    0    1    4    2   10    0]\n",
      " [  14    3  921   10   15    3   12   13   33    8]\n",
      " [   2    0   25  922    1   22    3    9   17    9]\n",
      " [   2    3    5    0  921    0   11    2    4   34]\n",
      " [  10    3    5   34   12  765   15   11   30    7]\n",
      " [  11    3    6    2    8   12  913    1    2    0]\n",
      " [   3    6   26    4    8    0    0  955    4   22]\n",
      " [   5    5    5   17    9   20   11   16  884    2]\n",
      " [  12    5    3   12   26   12    0   16   11  912]]\n",
      "Q = 7\n",
      "Processing for bit resolution: 7\n"
     ]
    },
    {
     "name": "stderr",
     "output_type": "stream",
     "text": [
      "100%|██████████| 10000/10000 [34:52<00:00,  4.78it/s]\n"
     ]
    },
    {
     "name": "stdout",
     "output_type": "stream",
     "text": [
      "Confusion matrix for bit resolution 7:\n",
      "[[ 964    0    2    3    0    2    7    1    1    0]\n",
      " [   0 1110    4    4    0    1    4    2   10    0]\n",
      " [  14    3  920   10   15    4   12   13   33    8]\n",
      " [   2    0   22  925    1   21    3    9   16   11]\n",
      " [   2    3    3    1  923    0   11    2    3   34]\n",
      " [  10    3    5   39   12  761   15   10   29    8]\n",
      " [  12    3    4    2    8   11  915    1    2    0]\n",
      " [   3    7   25    6    8    0    0  952    3   24]\n",
      " [   5    5    5   19    9   21   11   16  881    2]\n",
      " [  12    6    3   12   25   11    0   14    9  917]]\n",
      "Q = 6\n",
      "Processing for bit resolution: 6\n"
     ]
    },
    {
     "name": "stderr",
     "output_type": "stream",
     "text": [
      "100%|██████████| 10000/10000 [34:57<00:00,  4.77it/s]\n"
     ]
    },
    {
     "name": "stdout",
     "output_type": "stream",
     "text": [
      "Confusion matrix for bit resolution 6:\n",
      "[[ 964    0    2    3    0    2    7    1    1    0]\n",
      " [   0 1109    4    4    0    2    4    2   10    0]\n",
      " [  14    3  920   10   15    4   12   13   33    8]\n",
      " [   2    0   22  923    1   21    3    9   19   10]\n",
      " [   2    3    5    1  923    0    9    2    4   33]\n",
      " [  10    3    4   36   13  763   16   11   28    8]\n",
      " [  11    3    4    2    8   14  914    1    1    0]\n",
      " [   3    7   25    6    8    1    0  954    3   21]\n",
      " [   4    5    5   18   10   23   11   13  882    3]\n",
      " [  12    5    2   12   26   13    0   16   10  913]]\n",
      "Q = 5\n",
      "Processing for bit resolution: 5\n"
     ]
    },
    {
     "name": "stderr",
     "output_type": "stream",
     "text": [
      " 62%|██████▏   | 6228/10000 [22:02<13:06,  4.80it/s]"
     ]
    }
   ],
   "source": [
    "from pynq import Overlay\n",
    "from time import sleep\n",
    "import numpy as np\n",
    "import matplotlib.pyplot as plt\n",
    "import time \n",
    "from tqdm import tqdm\n",
    "\n",
    "# Define the core IP addresses\n",
    "IP_CORE_VERSION = 0x00\n",
    "IP_CORE_ID      = (0x1)<<2\n",
    "IP_CORE_MAGIC   = (0x2)<<2\n",
    "IP_CORE_RESET   = (0x3)<<2\n",
    "IP_CORE_DIN     = (0x4)<<2\n",
    "IP_CORE_DOUT    = (0x5)<<2\n",
    "IP_CORE_DBG_CNT = (0x6)<<2\n",
    "IP_CORE_DBG_MAC0= (0x7)<<2\n",
    "IP_CORE_DBG_MEM0= (0x8)<<2\n",
    "\n",
    "# Create confusion matrix\n",
    "def create_confusion_matrix(num_classes):\n",
    "    return np.zeros((num_classes, num_classes), dtype=int)\n",
    "\n",
    "# Update confusion matrix\n",
    "def update_confusion_matrix(conf_matrix, true_label, predicted_label):\n",
    "    conf_matrix[true_label][predicted_label] += 1\n",
    "    \n",
    "# Predict function\n",
    "def predict(neural_net, img_line):\n",
    "    # Reset IP-core\n",
    "    neural_net.write(IP_CORE_RESET, 0x1)\n",
    "    sleep(0.00005)\n",
    "    neural_net.write(IP_CORE_RESET, 0x0)\n",
    "    \n",
    "    # Send image to NN-IP\n",
    "    for i in range(len(img_line)):\n",
    "        pixel_cur = int(img_line[i] * 128)\n",
    "        neural_net.write(IP_CORE_DIN, pixel_cur)\n",
    "        sleep(0.00005)\n",
    "\n",
    "    nn_out = neural_net.read(IP_CORE_DOUT)\n",
    "    \n",
    "    return nn_out\n",
    "\n",
    "def run_experiment(q_bits, images, labels):\n",
    "    print(f\"Processing for bit resolution: {q_bits}\")\n",
    "    \n",
    "    # Load the overlay\n",
    "    platform = Overlay(f\"KE_nn_q{q_bits}.bit\")\n",
    "    neural_net = platform.KE_fc_nn_0\n",
    "\n",
    "    # Prepare confusion matrix\n",
    "    num_classes = 10\n",
    "    conf_matrix = create_confusion_matrix(num_classes)\n",
    "\n",
    "    # Process each image\n",
    "    for n in tqdm(range(10000)):  # Process 10,000 images\n",
    "        img_line = images[n, :]\n",
    "        true_label = labels[n]\n",
    "        label_pred = predict(neural_net, img_line)\n",
    "        \n",
    "        update_confusion_matrix(conf_matrix, true_label, label_pred)\n",
    "\n",
    "#         if n % 200 == 0:\n",
    "#             print(f\"Processed {n}/{len(labels)} for bit resolution {q_bits}\")\n",
    "\n",
    "    return conf_matrix\n",
    "\n",
    "# Loading data\n",
    "images = np.load(\"normalized_images.npy\")\n",
    "labels = np.load(\"MNIST_test_labels.npy\")\n",
    "\n",
    "bit_resolutions = [10, 9, 8, 7, 6, 5, 4, 3, 2, 1] \n",
    "results = {}\n",
    "\n",
    "# Run experiments \n",
    "for q_bits in bit_resolutions:\n",
    "    print(f'Q = {q_bits}')\n",
    "    conf_matrix = run_experiment(q_bits, images, labels)\n",
    "    print(f'Confusion matrix for bit resolution {q_bits}:')\n",
    "    print(conf_matrix)\n",
    "    np.save(f\"conf_matrix_6q{q_bits}.npy\", conf_matrix)\n",
    "\n"
   ]
  },
  {
   "cell_type": "code",
   "execution_count": null,
   "id": "b9bb503f",
   "metadata": {},
   "outputs": [],
   "source": []
  }
 ],
 "metadata": {
  "kernelspec": {
   "display_name": "Python 3 (ipykernel)",
   "language": "python",
   "name": "python3"
  },
  "language_info": {
   "codemirror_mode": {
    "name": "ipython",
    "version": 3
   },
   "file_extension": ".py",
   "mimetype": "text/x-python",
   "name": "python",
   "nbconvert_exporter": "python",
   "pygments_lexer": "ipython3",
   "version": "3.10.4"
  }
 },
 "nbformat": 4,
 "nbformat_minor": 5
}
