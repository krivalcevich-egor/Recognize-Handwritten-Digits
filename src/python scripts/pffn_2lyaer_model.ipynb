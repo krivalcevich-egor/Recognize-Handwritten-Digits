{
 "cells": [
  {
   "cell_type": "markdown",
   "metadata": {},
   "source": [
    "# Library"
   ]
  },
  {
   "cell_type": "code",
   "execution_count": 1,
   "metadata": {},
   "outputs": [
    {
     "name": "stdout",
     "output_type": "stream",
     "text": [
      "Working on device cpu\n"
     ]
    }
   ],
   "source": [
    "import numpy as np\n",
    "import torch\n",
    "import torch.nn as nn\n",
    "from torch.optim import lr_scheduler\n",
    "\n",
    "import torchvision\n",
    "import matplotlib.pyplot as plt\n",
    "from time import time\n",
    "from torchvision import datasets, transforms\n",
    "from torch import nn, optim\n",
    "from tqdm import tqdm\n",
    "\n",
    "device = torch.device('cuda' if torch.cuda.is_available() else 'cpu')\n",
    "print(f\"Working on device {device}\")"
   ]
  },
  {
   "cell_type": "markdown",
   "metadata": {},
   "source": [
    "# Load dataset"
   ]
  },
  {
   "cell_type": "code",
   "execution_count": 2,
   "metadata": {},
   "outputs": [],
   "source": [
    "# Transform image to 1x784 and normalize colors\n",
    "transform = transforms.Compose([\n",
    "    transforms.ToTensor(),\n",
    "    transforms.Normalize((0.5,), (0.5,))\n",
    "])\n",
    "\n",
    "# Download dataset\n",
    "trainset = datasets.MNIST('dataset', download=False, train=True, transform=transform)\n",
    "valset_full = datasets.MNIST('dataset', download=False, train=False, transform=transform)\n",
    "\n",
    "val_size, test_size = 1000, 9000\n",
    "val_dataset, test_dataset = torch.utils.data.random_split(valset_full, [val_size, test_size], generator=torch.Generator().manual_seed(27))\n",
    "\n",
    "# Create dataloaders\n",
    "trainloader = torch.utils.data.DataLoader(trainset, batch_size=2000, shuffle=True)\n",
    "val_loader = torch.utils.data.DataLoader(val_dataset, batch_size=1000, shuffle=False)\n",
    "test_loader = torch.utils.data.DataLoader(test_dataset, batch_size=1000, shuffle=False) "
   ]
  },
  {
   "cell_type": "markdown",
   "metadata": {},
   "source": [
    "# Models"
   ]
  },
  {
   "cell_type": "code",
   "execution_count": 6,
   "metadata": {},
   "outputs": [],
   "source": [
    "class PositionWiseFFN(nn.Module):\n",
    "    \"\"\"The positionwise feed-forward network.\"\"\"\n",
    "    def __init__(self, ffn_num_hiddens, ffn_num_outputs):\n",
    "        super().__init__()\n",
    "        self.dense1 = nn.LazyLinear(ffn_num_hiddens)\n",
    "        self.dense2 = nn.LazyLinear(ffn_num_outputs)\n",
    "\n",
    "    def forward(self, X):\n",
    "        out = torch.nn.functional.tanh(self.dense1(X))\n",
    "        out = torch.transpose(out, -1, -2)\n",
    "        out = torch.nn.functional.tanh(self.dense2(out))\n",
    "        out = torch.transpose(out, -2, -1)\n",
    "        return out\n",
    "    \n",
    "class PFNN_2l_sq(nn.Module):\n",
    "    def __init__(self, input_size, num_classes, device='cpu'):\n",
    "        super(PFNN_2l_sq, self).__init__()\n",
    "        \n",
    "        self.PFFN1 = PositionWiseFFN(input_size,input_size)\n",
    "        self.PFFN2 = PositionWiseFFN(input_size//2,input_size//2)\n",
    "        \n",
    "        dropout = 0.05\n",
    "        self.dropout = nn.Dropout(dropout)\n",
    "        \n",
    "        # self.BN1 = nn.LayerNorm((1,input_size,input_size))\n",
    "        \n",
    "        self.W_o = nn.LazyLinear( num_classes, device=device)\n",
    "        \n",
    "        self.num_classes = num_classes\n",
    "\n",
    "        self.log_softmax = nn.LogSoftmax(dim=1)\n",
    "\n",
    "    def forward(self, x):\n",
    "        # Multiply input by weights and add biases\n",
    "        \n",
    "        out = self.PFFN1(x)\n",
    "        out = self.PFFN2(out)\n",
    "        \n",
    "        out = out.reshape(out.shape[0],-1)\n",
    "        \n",
    "        out = self.log_softmax(self.dropout(self.W_o(out)))\n",
    "        \n",
    "        return out"
   ]
  },
  {
   "cell_type": "markdown",
   "metadata": {},
   "source": [
    "# Train loop"
   ]
  },
  {
   "cell_type": "code",
   "execution_count": 29,
   "metadata": {},
   "outputs": [
    {
     "name": "stderr",
     "output_type": "stream",
     "text": [
      "c:\\Users\\m.vashkevich\\AppData\\Local\\Programs\\Python\\Python311\\Lib\\site-packages\\torch\\nn\\modules\\lazy.py:180: UserWarning: Lazy modules are a new feature under heavy development so changes to the API or functionality can happen at any moment.\n",
      "  warnings.warn('Lazy modules are a new feature under heavy development '\n"
     ]
    },
    {
     "name": "stdout",
     "output_type": "stream",
     "text": [
      "Epoch 0 - Training loss: 0.10630, Val loss: 0.07103\n",
      "Epoch 1 - Training loss: 0.05899, Val loss: 0.06901\n",
      "Epoch 2 - Training loss: 0.05781, Val loss: 0.06894\n",
      "Epoch 3 - Training loss: 0.05727, Val loss: 0.06766\n",
      "Epoch 4 - Training loss: 0.05686, Val loss: 0.06782\n",
      "Epoch 5 - Training loss: 0.05661, Val loss: 0.06776\n",
      "Epoch 6 - Training loss: 0.05625, Val loss: 0.06794\n",
      "Epoch 7 - Training loss: 0.05607, Val loss: 0.06714\n",
      "Epoch 8 - Training loss: 0.05570, Val loss: 0.06785\n",
      "Epoch 9 - Training loss: 0.05542, Val loss: 0.06644\n",
      "Epoch 10 - Training loss: 0.05525, Val loss: 0.06721\n",
      "Epoch 11 - Training loss: 0.05502, Val loss: 0.06750\n",
      "Epoch 12 - Training loss: 0.05491, Val loss: 0.06753\n",
      "Epoch 13 - Training loss: 0.05471, Val loss: 0.06745\n",
      "Epoch 14 - Training loss: 0.05461, Val loss: 0.06754\n",
      "Epoch 15 - Training loss: 0.05447, Val loss: 0.06740\n",
      "Epoch 16 - Training loss: 0.05434, Val loss: 0.06732\n",
      "Epoch 17 - Training loss: 0.05424, Val loss: 0.06671\n",
      "Epoch 18 - Training loss: 0.05419, Val loss: 0.06749\n",
      "Epoch 19 - Training loss: 0.05412, Val loss: 0.06689\n",
      "Epoch 20 - Training loss: 0.05402, Val loss: 0.06725\n",
      "Epoch 21 - Training loss: 0.05394, Val loss: 0.06728\n",
      "Epoch 22 - Training loss: 0.05380, Val loss: 0.06707\n",
      "Epoch 23 - Training loss: 0.05374, Val loss: 0.06719\n",
      "Epoch 24 - Training loss: 0.05366, Val loss: 0.06688\n",
      "Epoch 25 - Training loss: 0.05364, Val loss: 0.06713\n",
      "Epoch 26 - Training loss: 0.05361, Val loss: 0.06704\n",
      "Epoch 27 - Training loss: 0.05353, Val loss: 0.06705\n",
      "Epoch 28 - Training loss: 0.05350, Val loss: 0.06700\n",
      "Epoch 29 - Training loss: 0.05346, Val loss: 0.06701\n",
      "\n",
      "Training Time (in minutes) = 4.37\n"
     ]
    }
   ],
   "source": [
    "# Build the Neural Network\n",
    "input_size = 28  # 28x28 images flattened\n",
    "output_size = 10  # 10 classes for digits 0-9\n",
    "\n",
    "N_epoch = 200\n",
    "model = PFNN_2l_sq(input_size,output_size, device=device)\n",
    "model.load_state_dict(torch.load(f'model_backup\\pffn_2l_sq_epoch_{N_epoch}.pth', map_location=torch.device('cpu'))) #\n",
    "# print(model)\n",
    "model.to(device)\n",
    "\n",
    "# criterion = nn.CrossEntropyLoss()  # Use CrossEntropyLoss which includes softmax\n",
    "criterion = nn.NLLLoss()  # Use CrossEntropyLoss which includes softmax\n",
    "optimizer = optim.Adam(model.parameters(), lr=7e-4, weight_decay=1e-5)\n",
    "scheduler = lr_scheduler.StepLR(optimizer, step_size=10, gamma=0.97, verbose=False)\n",
    "\n",
    "# Track loss\n",
    "loss_list = []\n",
    "val_loss_list = []\n",
    "\n",
    "# Training the network\n",
    "epochs = 30\n",
    "time0 = time()\n",
    "\n",
    "for epoch in range(epochs):\n",
    "    running_loss = 0\n",
    "\n",
    "    # for images, labels in tqdm(trainloader, leave=False):\n",
    "    for images, labels in trainloader:\n",
    "        images = images.to(device)\n",
    "        labels = labels.to(device)\n",
    "\n",
    "        images = images.squeeze(1)                 \n",
    "\n",
    "        # Training pass\n",
    "        optimizer.zero_grad()\n",
    "        \n",
    "        output = model(images)\n",
    "        loss = criterion(output, labels)               \n",
    "        \n",
    "        # This is where the model learns by back propagating\n",
    "        loss.backward()\n",
    "        \n",
    "        # And optimizes its weights here\n",
    "        optimizer.step()\n",
    "        scheduler.step()\n",
    "        \n",
    "        running_loss += loss.item()\n",
    "    \n",
    "    # validation\n",
    "    model.eval()\n",
    "    with torch.no_grad():\n",
    "        for images, labels in val_loader:\n",
    "            images = images.to(device)\n",
    "            labels = labels.to(device)\n",
    "            images = images.squeeze(1)                 \n",
    "            \n",
    "            output = model(images)\n",
    "            val_loss = criterion(output, labels)\n",
    "    val_loss = val_loss / len(val_loader)\n",
    "    val_loss_list.append(val_loss)\n",
    "        \n",
    "    CE_curr = running_loss / len(trainloader)\n",
    "    loss_list.append(CE_curr)\n",
    "    # if (epoch%10)==0:\n",
    "    print(f\"Epoch {epoch} - Training loss: {CE_curr:.5f}, Val loss: {val_loss:.5f}\")\n",
    "    \n",
    "    \n",
    "print(f\"\\nTraining Time (in minutes) = {(time()-time0)/60:.2f}\")\n",
    "\n",
    "# Convert lists to numpy arrays\n",
    "loss_array = np.array(loss_list)\n",
    "\n",
    "val_loss = [val.cpu().numpy() for val in val_loss_list]\n",
    "\n",
    "val_loss_array = np.array(val_loss)\n",
    "\n",
    "# Save the model\n",
    "torch.save(model.state_dict(), f'model_backup\\pffn_2l_sq_epoch_{N_epoch+epochs}.pth')"
   ]
  },
  {
   "cell_type": "code",
   "execution_count": 30,
   "metadata": {},
   "outputs": [
    {
     "data": {
      "image/png": "[encoded data removed]",
      "text/plain": [
       "<Figure size 500x200 with 1 Axes>"
      ]
     },
     "metadata": {},
     "output_type": "display_data"
    }
   ],
   "source": [
    "# epochs = 30\n",
    "# N_epoch = 0\n",
    "# # Save the model\n",
    "# torch.save(model.state_dict(), f'model_backup\\SDPA_2H_seq_d{d1}-d{d2}_pffn_epoch_{N_epoch+epochs}.pth')\n",
    "\n",
    "# Plot NLL_loss\n",
    "plt.figure(figsize=(5, 2))\n",
    "plt.plot(range(len(loss_array))[1:], loss_array[1:], label='Train')\n",
    "plt.plot(range(len(val_loss_array)), val_loss_array, label='Validation')\n",
    "\n",
    "plt.xlabel('Epochs')\n",
    "plt.ylabel('NNLoss')\n",
    "plt.title('NNLoss')\n",
    "plt.legend()\n",
    "plt.show()"
   ]
  },
  {
   "cell_type": "markdown",
   "metadata": {},
   "source": [
    "# NN test"
   ]
  },
  {
   "cell_type": "code",
   "execution_count": 31,
   "metadata": {},
   "outputs": [
    {
     "name": "stdout",
     "output_type": "stream",
     "text": [
      "Accuracy =  0.9790\n"
     ]
    }
   ],
   "source": [
    "input_size = 28  # 28x28 images flattened\n",
    "output_size = 10  # 10 classes for digits 0-9\n",
    "\n",
    "model = PFNN_2l_sq(input_size,output_size, device=device)\n",
    "model.load_state_dict(torch.load(f'model_backup\\pffn_2l_sq_epoch_{N_epoch+epochs}.pth', map_location=torch.device('cpu')))\n",
    "# model.load_state_dict(torch.load('model_backup\\sa_NN_epoch_1000.pth'))\n",
    "model.to(device)\n",
    "\n",
    "correct = 0\n",
    "total = 0\n",
    "\n",
    "model.eval()\n",
    "for X, y_true in test_loader:\n",
    "    X = X.squeeze(1) \n",
    "    X = X.to(device)\n",
    "    y_true = y_true.to(device)\n",
    "    \n",
    "    outputs = model(X)\n",
    "    _,y_pred = torch.max(outputs, dim=1)\n",
    "    total +=y_true.shape[0]\n",
    "    correct +=int((y_pred==y_true).sum())\n",
    "\n",
    "print(f\"Accuracy = {correct/total: .4f}\")"
   ]
  },
  {
   "cell_type": "markdown",
   "metadata": {},
   "source": [
    "# Visualization"
   ]
  },
  {
   "cell_type": "code",
   "execution_count": 58,
   "metadata": {},
   "outputs": [
    {
     "data": {
      "image/png": "[encoded data removed]",
      "text/plain": [
       "<Figure size 800x200 with 6 Axes>"
      ]
     },
     "metadata": {},
     "output_type": "display_data"
    }
   ],
   "source": [
    "model = sa_NN(input_size,output_size, device=device)\n",
    "model.load_state_dict(torch.load('model_backup\\sa_NN_epoch_1400.pth')) # map_location=torch.device('cpu')\n",
    "\n",
    "img, label = trainset[693]\n",
    "img = img.to(device)\n",
    "\n",
    "Q,K,V,Y,att_weights = model.get_matricies(img)\n",
    "\n",
    "fig, ax = plt.subplots(figsize=(8,2), nrows=1, ncols=6)\n",
    "plt.subplot(1,6,1)\n",
    "plt.imshow(Q.squeeze(0).detach().cpu())\n",
    "plt.subplot(1,6,2)\n",
    "plt.imshow(K.squeeze(0).detach().cpu())\n",
    "plt.subplot(1,6,3)\n",
    "plt.imshow(V.squeeze(0).detach().cpu())\n",
    "plt.subplot(1,6,4)\n",
    "plt.imshow(Y.squeeze(0).detach().cpu())\n",
    "plt.subplot(1,6,5)\n",
    "plt.imshow(att_weights.squeeze(0).detach().cpu())\n",
    "plt.subplot(1,6,6)\n",
    "plt.imshow(img.squeeze(0).detach().cpu())\n",
    "\n",
    "plt.subplots_adjust(wspace=0.5)"
   ]
  }
 ],
 "metadata": {
  "kernelspec": {
   "display_name": "Python 3",
   "language": "python",
   "name": "python3"
  },
  "language_info": {
   "codemirror_mode": {
    "name": "ipython",
    "version": 3
   },
   "file_extension": ".py",
   "mimetype": "text/x-python",
   "name": "python",
   "nbconvert_exporter": "python",
   "pygments_lexer": "ipython3",
   "version": "3.11.5"
  }
 },
 "nbformat": 4,
 "nbformat_minor": 2
}
