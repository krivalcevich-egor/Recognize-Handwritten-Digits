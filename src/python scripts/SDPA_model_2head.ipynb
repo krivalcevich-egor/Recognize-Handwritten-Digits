{
 "cells": [
  {
   "cell_type": "markdown",
   "metadata": {},
   "source": [
    "# Library"
   ]
  },
  {
   "cell_type": "code",
   "execution_count": 1,
   "metadata": {},
   "outputs": [
    {
     "name": "stdout",
     "output_type": "stream",
     "text": [
      "Working on device cpu\n"
     ]
    }
   ],
   "source": [
    "import numpy as np\n",
    "import torch\n",
    "import torch.nn as nn\n",
    "from torch.optim import lr_scheduler\n",
    "\n",
    "import torchvision\n",
    "import matplotlib.pyplot as plt\n",
    "from time import time\n",
    "from torchvision import datasets, transforms\n",
    "from torch import nn, optim\n",
    "from tqdm import tqdm\n",
    "\n",
    "device = torch.device('cuda' if torch.cuda.is_available() else 'cpu')\n",
    "print(f\"Working on device {device}\")"
   ]
  },
  {
   "cell_type": "markdown",
   "metadata": {},
   "source": [
    "# Load dataset"
   ]
  },
  {
   "cell_type": "code",
   "execution_count": 23,
   "metadata": {},
   "outputs": [],
   "source": [
    "# Transform image to 1x784 and normalize colors\n",
    "transform = transforms.Compose([\n",
    "    transforms.ToTensor(),\n",
    "    transforms.Normalize((0.5,), (0.5,))\n",
    "])\n",
    "\n",
    "# Download dataset\n",
    "trainset = datasets.MNIST('dataset', download=False, train=True, transform=transform)\n",
    "valset_full = datasets.MNIST('dataset', download=False, train=False, transform=transform)\n",
    "\n",
    "val_size, test_size = 1000, 9000\n",
    "val_dataset, test_dataset = torch.utils.data.random_split(valset_full, [val_size, test_size], generator=torch.Generator().manual_seed(27))\n",
    "\n",
    "# Create dataloaders\n",
    "trainloader = torch.utils.data.DataLoader(trainset, batch_size=5000, shuffle=True)\n",
    "val_loader = torch.utils.data.DataLoader(val_dataset, batch_size=1000, shuffle=False)\n",
    "test_loader = torch.utils.data.DataLoader(test_dataset, batch_size=1000, shuffle=False)\n",
    "\n",
    "\n",
    "# for idx, (data, target) in enumerate(trainloader):\n",
    "#     data = data.to(device)\n",
    "#     target = target.to(device)\n",
    "\n",
    "# for idx, (data, target) in enumerate(valloader):\n",
    "#     data = data.to(device)\n",
    "#     target = target.to(device)    "
   ]
  },
  {
   "cell_type": "markdown",
   "metadata": {},
   "source": [
    "# Preliminary computation"
   ]
  },
  {
   "cell_type": "code",
   "execution_count": 30,
   "metadata": {},
   "outputs": [
    {
     "name": "stdout",
     "output_type": "stream",
     "text": [
      "tensor([[1.0000, 1.0000, 1.0000, 1.0000, 1.0000, 1.0000, 1.0000, 1.0000, 1.0000,\n",
      "         1.0000, 1.0000, 1.0000, 1.0000, 1.0000, 1.0000, 1.0000, 1.0000, 1.0000,\n",
      "         1.0000, 1.0000, 1.0000, 1.0000, 1.0000, 1.0000, 1.0000, 1.0000, 1.0000,\n",
      "         1.0000]])\n"
     ]
    },
    {
     "data": {
      "image/png": "[encoded data removed]",
      "text/plain": [
       "<Figure size 800x200 with 4 Axes>"
      ]
     },
     "metadata": {},
     "output_type": "display_data"
    }
   ],
   "source": [
    "img, label = trainset[4]\n",
    "input_size = img.shape[1:]\n",
    "\n",
    "Q = img.clone()\n",
    "K = img.clone()\n",
    "V = img.clone()\n",
    "\n",
    "soft_max = nn.Softmax(dim=2)\n",
    "\n",
    "QT = torch.transpose(Q, 1, 2)\n",
    "\n",
    "qTk = torch.bmm(QT, K)\n",
    "atten_weight = soft_max(qTk)\n",
    "\n",
    "Att_pool = torch.bmm(atten_weight, V)\n",
    "\n",
    "fig, ax = plt.subplots(figsize=(8,2), nrows=1, ncols=4)\n",
    "plt.subplot(1,4,1)\n",
    "plt.imshow(Q.squeeze(0))\n",
    "plt.subplot(1,4,2)\n",
    "plt.imshow(qTk.squeeze(0))\n",
    "plt.subplot(1,4,3)\n",
    "plt.imshow(atten_weight.squeeze(0))\n",
    "\n",
    "plt.subplot(1,4,4)\n",
    "plt.imshow(Att_pool.squeeze(0))\n",
    "Att_pool = Att_pool.squeeze(0)\n",
    "print(atten_weight.sum(dim=2))"
   ]
  },
  {
   "cell_type": "markdown",
   "metadata": {},
   "source": [
    "# Model description\n",
    "\n",
    "$$ \\mathrm{Attention}(\\mathbf{q},\\mathbf{k},\\mathbf{v}) = \\sum_{i=1}^m{\\alpha(\\mathbf{q},\\mathbf{k}_i) \\mathbf{v}_i} $$\n",
    "\n",
    "where $\\mathbf{q}, \\mathbf{k}, \\mathbf{v} \\in \\mathbb{R}^d$.\n",
    "\n",
    "Scaled dot product attention scoring function:\n",
    "\n",
    "$$ a(\\mathbf{q},\\mathbf{k}_i) = \\mathbf{q}^T \\mathbf{k}_i / \\sqrt{d} $$\n",
    "\n",
    "Attention weights\n",
    "\n",
    "$$ \\alpha(\\mathbf{q},\\mathbf{k}_i) = \\mathrm{softmax}(a(\\mathbf{q},\\mathbf{k}_i)) = \\frac{\\exp(\\mathbf{q}^T \\mathbf{k}_i / \\sqrt{d})}{\\sum_{j=1}\\exp(\\mathbf{q}^T \\mathbf{k}_j / \\sqrt{d})}$$"
   ]
  },
  {
   "cell_type": "code",
   "execution_count": 4,
   "metadata": {},
   "outputs": [],
   "source": [
    "class DotProductAttention(nn.Module):\n",
    "    \"\"\"Scaled dot product attention.\"\"\"\n",
    "    # def __init__(self, dropout):\n",
    "    def __init__(self):\n",
    "        super().__init__()\n",
    "        # self.dropout = nn.Dropout(dropout)\n",
    "        self.soft_max = nn.Softmax(dim=2)\n",
    "        \n",
    "\n",
    "    # Shape of queries: (batch_size, img-height, d)\n",
    "    # Shape of keys: (batch_size, img-height, d)\n",
    "    # Shape of values: (batch_size, img-height, value dimension)\n",
    "    def forward(self, queries, keys, values):\n",
    "        d = queries.shape[2]\n",
    "        # Swap the last two dimensions of keys with keys.transpose(1, 2)\n",
    "        scores = torch.bmm(queries, keys.transpose(1, 2)) / np.sqrt(d)\n",
    "        self.attention_weights = self.soft_max(scores)\n",
    "        # return torch.bmm(self.dropout(self.attention_weights), values)\n",
    "        return torch.bmm(self.attention_weights, values)\n",
    "\n",
    "class SDPA_2H_NN(nn.Module):\n",
    "    def __init__(self, input_size, num_classes, device='cpu'):\n",
    "        super(SDPA_2H_NN, self).__init__()\n",
    "        d_model = input_size\n",
    "        self.W_q1 = nn.Linear(input_size, d_model, device=device)\n",
    "        self.W_k1 = nn.Linear(input_size, d_model, device=device)\n",
    "        self.W_v1 = nn.Linear(input_size, d_model, device=device)\n",
    "        \n",
    "        self.W_q2 = nn.Linear(input_size, d_model, device=device)\n",
    "        self.W_k2 = nn.Linear(input_size, d_model, device=device)\n",
    "        self.W_v2 = nn.Linear(input_size, d_model, device=device)\n",
    "        \n",
    "        num_head = 2\n",
    "        self.W_o = nn.Linear(input_size*input_size*num_head, num_classes, device=device)\n",
    "        \n",
    "        self.num_classes = num_classes\n",
    "        \n",
    "        self.SDPA_h1 = DotProductAttention()\n",
    "        self.SDPA_h2 = DotProductAttention()\n",
    "\n",
    "        self.log_softmax = nn.LogSoftmax(dim=1)\n",
    "\n",
    "        nn.init.xavier_uniform_(self.W_q1.weight)\n",
    "        nn.init.xavier_uniform_(self.W_k1.weight)\n",
    "        nn.init.xavier_uniform_(self.W_v1.weight)\n",
    "        nn.init.xavier_uniform_(self.W_q2.weight)\n",
    "        nn.init.xavier_uniform_(self.W_k2.weight)\n",
    "        nn.init.xavier_uniform_(self.W_v2.weight)\n",
    "        nn.init.xavier_uniform_(self.W_o.weight)\n",
    "\n",
    "    def forward(self, x):\n",
    "        # Multiply input by weights and add biases\n",
    "        \n",
    "        Q1 = self.W_q1(x)\n",
    "        K1 = self.W_k1(x)\n",
    "        V1 = self.W_v1(x)\n",
    "        \n",
    "        Q2 = self.W_q2(x)\n",
    "        K2 = self.W_k2(x)\n",
    "        V2 = self.W_v2(x)\n",
    "        \n",
    "        out1 = self.SDPA_h1(Q1, K1, V1)\n",
    "        out2 = self.SDPA_h2(Q2, K2, V2)\n",
    "        \n",
    "        out1 = out1.reshape(out1.shape[0],-1)\n",
    "        out2 = out2.reshape(out2.shape[0],-1)\n",
    "        out = torch.cat((out1, out2),dim=1)\n",
    "        out = self.log_softmax(self.W_o(out))\n",
    "        \n",
    "        return out\n",
    "    \n",
    "    # def get_matricies(self, x):\n",
    "    #     Q = self.W_q(x)\n",
    "    #     K = self.W_k(x)\n",
    "    #     V = self.W_v(x)\n",
    "    #     y = self.SDPA(Q, K, V)\n",
    "\n",
    "    #     return Q,K,V,y,self.SDPA.attention_weights"
   ]
  },
  {
   "cell_type": "markdown",
   "metadata": {},
   "source": [
    "# Train loop"
   ]
  },
  {
   "cell_type": "code",
   "execution_count": null,
   "metadata": {},
   "outputs": [
    {
     "name": "stdout",
     "output_type": "stream",
     "text": [
      "Epoch 0 - Training loss: 0.12094, Val loss: 0.14260\n",
      "Epoch 1 - Training loss: 0.11065, Val loss: 0.14130\n",
      "Epoch 2 - Training loss: 0.10776, Val loss: 0.14163\n",
      "Epoch 3 - Training loss: 0.10676, Val loss: 0.14168\n",
      "Epoch 4 - Training loss: 0.10669, Val loss: 0.14145\n",
      "Epoch 5 - Training loss: 0.10653, Val loss: 0.14233\n",
      "Epoch 6 - Training loss: 0.10654, Val loss: 0.14126\n",
      "Epoch 7 - Training loss: 0.10598, Val loss: 0.13954\n",
      "Epoch 8 - Training loss: 0.10564, Val loss: 0.13964\n",
      "Epoch 9 - Training loss: 0.10568, Val loss: 0.14198\n",
      "Epoch 10 - Training loss: 0.10538, Val loss: 0.14041\n",
      "Epoch 11 - Training loss: 0.10505, Val loss: 0.14005\n",
      "Epoch 12 - Training loss: 0.10491, Val loss: 0.13969\n",
      "Epoch 13 - Training loss: 0.10461, Val loss: 0.14106\n",
      "Epoch 14 - Training loss: 0.10477, Val loss: 0.14091\n",
      "Epoch 15 - Training loss: 0.10439, Val loss: 0.13732\n",
      "Epoch 16 - Training loss: 0.10476, Val loss: 0.13820\n",
      "Epoch 17 - Training loss: 0.10469, Val loss: 0.13937\n",
      "Epoch 18 - Training loss: 0.10482, Val loss: 0.14156\n",
      "Epoch 19 - Training loss: 0.10420, Val loss: 0.14048\n",
      "Epoch 20 - Training loss: 0.10366, Val loss: 0.13882\n",
      "Epoch 21 - Training loss: 0.10336, Val loss: 0.13917\n",
      "Epoch 22 - Training loss: 0.10342, Val loss: 0.13773\n",
      "Epoch 23 - Training loss: 0.10328, Val loss: 0.14089\n",
      "Epoch 24 - Training loss: 0.10322, Val loss: 0.13750\n",
      "Epoch 25 - Training loss: 0.10295, Val loss: 0.13739\n",
      "Epoch 26 - Training loss: 0.10270, Val loss: 0.13762\n",
      "Epoch 27 - Training loss: 0.10276, Val loss: 0.13791\n",
      "Epoch 28 - Training loss: 0.10260, Val loss: 0.13790\n",
      "Epoch 29 - Training loss: 0.10256, Val loss: 0.13824\n",
      "Epoch 30 - Training loss: 0.10222, Val loss: 0.13826\n",
      "Epoch 31 - Training loss: 0.10231, Val loss: 0.13816\n",
      "Epoch 32 - Training loss: 0.10216, Val loss: 0.13792\n",
      "Epoch 33 - Training loss: 0.10230, Val loss: 0.13845\n",
      "Epoch 34 - Training loss: 0.10243, Val loss: 0.13634\n",
      "Epoch 35 - Training loss: 0.10222, Val loss: 0.13786\n",
      "Epoch 36 - Training loss: 0.10185, Val loss: 0.13744\n",
      "Epoch 37 - Training loss: 0.10161, Val loss: 0.13723\n",
      "Epoch 38 - Training loss: 0.10162, Val loss: 0.13692\n",
      "Epoch 39 - Training loss: 0.10190, Val loss: 0.13746\n",
      "Epoch 40 - Training loss: 0.10175, Val loss: 0.13814\n",
      "Epoch 41 - Training loss: 0.10159, Val loss: 0.13743\n",
      "Epoch 42 - Training loss: 0.10134, Val loss: 0.13722\n",
      "Epoch 43 - Training loss: 0.10133, Val loss: 0.13686\n",
      "Epoch 44 - Training loss: 0.10125, Val loss: 0.13705\n",
      "Epoch 45 - Training loss: 0.10107, Val loss: 0.13653\n",
      "Epoch 46 - Training loss: 0.10102, Val loss: 0.13663\n",
      "Epoch 47 - Training loss: 0.10104, Val loss: 0.13746\n",
      "Epoch 48 - Training loss: 0.10097, Val loss: 0.13727\n",
      "Epoch 49 - Training loss: 0.10100, Val loss: 0.13698\n",
      "Epoch 50 - Training loss: 0.10109, Val loss: 0.13741\n",
      "Epoch 51 - Training loss: 0.10101, Val loss: 0.13723\n",
      "Epoch 52 - Training loss: 0.10102, Val loss: 0.13691\n",
      "Epoch 53 - Training loss: 0.10081, Val loss: 0.13660\n",
      "Epoch 54 - Training loss: 0.10054, Val loss: 0.13723\n",
      "Epoch 55 - Training loss: 0.10058, Val loss: 0.13684\n",
      "Epoch 56 - Training loss: 0.10053, Val loss: 0.13705\n",
      "Epoch 57 - Training loss: 0.10047, Val loss: 0.13655\n",
      "Epoch 58 - Training loss: 0.10051, Val loss: 0.13717\n",
      "Epoch 59 - Training loss: 0.10047, Val loss: 0.13695\n",
      "\n",
      "Training Time (in minutes) = 10.87\n"
     ]
    }
   ],
   "source": [
    "# Build the Neural Network\n",
    "input_size = 28  # 28x28 images flattened\n",
    "output_size = 10  # 10 classes for digits 0-9\n",
    "\n",
    "N_epoch = 460\n",
    "model = SDPA_2H_NN(input_size,output_size, device=device)\n",
    "model.load_state_dict(torch.load(f'model_backup\\SDPA_2H_NN_epoch_{N_epoch}.pth')) #, map_location=torch.device('cpu')\n",
    "# model = torch.load('model_backup\\sa_NN_epoch_100.pth')\n",
    "# print(model)\n",
    "model.to(device)\n",
    "\n",
    "# criterion = nn.CrossEntropyLoss()  # Use CrossEntropyLoss which includes softmax\n",
    "criterion = nn.NLLLoss()  # Use CrossEntropyLoss which includes softmax\n",
    "optimizer = optim.Adam(model.parameters(), lr=10e-4, weight_decay=5e-4)\n",
    "scheduler = lr_scheduler.StepLR(optimizer, step_size=10, gamma=0.97, verbose=False)\n",
    "\n",
    "# Track loss\n",
    "loss_list = []\n",
    "val_loss_list = []\n",
    "\n",
    "# Training the network\n",
    "epochs = 60\n",
    "time0 = time()\n",
    "\n",
    "for epoch in range(epochs):\n",
    "    running_loss = 0\n",
    "\n",
    "    # for images, labels in tqdm(trainloader, leave=False):\n",
    "    for images, labels in trainloader:\n",
    "        images = images.to(device)\n",
    "        labels = labels.to(device)\n",
    "\n",
    "        images = images.squeeze(1)                 \n",
    "\n",
    "        # Training pass\n",
    "        optimizer.zero_grad()\n",
    "        \n",
    "        output = model(images)\n",
    "        loss = criterion(output, labels)               \n",
    "        \n",
    "        # This is where the model learns by back propagating\n",
    "        loss.backward()\n",
    "        \n",
    "        # And optimizes its weights here\n",
    "        optimizer.step()\n",
    "        scheduler.step()\n",
    "        \n",
    "        running_loss += loss.item()\n",
    "    \n",
    "    # validation\n",
    "    model.eval()\n",
    "    with torch.no_grad():\n",
    "        for images, labels in val_loader:\n",
    "            images = images.to(device)\n",
    "            labels = labels.to(device)\n",
    "            images = images.squeeze(1)                 \n",
    "            \n",
    "            output = model(images)\n",
    "            val_loss = criterion(output, labels)\n",
    "    val_loss = val_loss / len(val_loader)\n",
    "    val_loss_list.append(val_loss)\n",
    "        \n",
    "    CE_curr = running_loss / len(trainloader)\n",
    "    loss_list.append(CE_curr)\n",
    "    # if (epoch%10)==0:\n",
    "    print(f\"Epoch {epoch} - Training loss: {CE_curr:.5f}, Val loss: {val_loss:.5f}\")\n",
    "    \n",
    "    \n",
    "print(f\"\\nTraining Time (in minutes) = {(time()-time0)/60:.2f}\")\n",
    "\n",
    "# Convert lists to numpy arrays\n",
    "loss_array = np.array(loss_list)\n",
    "val_loss_array = np.array(val_loss_list)\n",
    "\n",
    "# Save arrays to .npy files\n",
    "np.save('loss_values.npy', loss_array)\n",
    "\n",
    "# Save the model\n",
    "torch.save(model.state_dict(), f'model_backup\\SDPA_2H_NN_epoch_{N_epoch+epochs}.pth')\n"
   ]
  },
  {
   "cell_type": "code",
   "execution_count": 28,
   "metadata": {},
   "outputs": [
    {
     "data": {
      "image/png": "[encoded data removed]",
      "text/plain": [
       "<Figure size 500x200 with 1 Axes>"
      ]
     },
     "metadata": {},
     "output_type": "display_data"
    }
   ],
   "source": [
    "# Plot NLL_loss\n",
    "plt.figure(figsize=(5, 2))\n",
    "plt.plot(range(len(loss_array)), loss_array, label='Train')\n",
    "plt.plot(range(len(val_loss_array)), val_loss_array, label='Validation')\n",
    "\n",
    "plt.xlabel('Epochs')\n",
    "plt.ylabel('NNLoss')\n",
    "plt.title('NNLoss')\n",
    "plt.legend()\n",
    "plt.show()"
   ]
  },
  {
   "cell_type": "markdown",
   "metadata": {},
   "source": [
    "# NN test"
   ]
  },
  {
   "cell_type": "code",
   "execution_count": 29,
   "metadata": {},
   "outputs": [
    {
     "name": "stdout",
     "output_type": "stream",
     "text": [
      "Accuracy =  0.955\n"
     ]
    }
   ],
   "source": [
    "input_size = 28  # 28x28 images flattened\n",
    "output_size = 10  # 10 classes for digits 0-9\n",
    "\n",
    "model = SDPA_2H_NN(input_size,output_size, device=device)\n",
    "model.load_state_dict(torch.load('model_backup\\SDPA_2H_NN_epoch_460.pth', map_location=torch.device('cpu')))\n",
    "# model.load_state_dict(torch.load('model_backup\\sa_NN_epoch_1000.pth'))\n",
    "model.to(device)\n",
    "\n",
    "correct = 0\n",
    "total = 0\n",
    "\n",
    "model.eval()\n",
    "for X, y_true in test_loader:\n",
    "    X = X.squeeze(1) \n",
    "    X = X.to(device)\n",
    "    y_true = y_true.to(device)\n",
    "    \n",
    "    outputs = model(X)\n",
    "    _,y_pred = torch.max(outputs, dim=1)\n",
    "    total +=y_true.shape[0]\n",
    "    correct +=int((y_pred==y_true).sum())\n",
    "\n",
    "print(f\"Accuracy = {correct/total: .3f}\")"
   ]
  },
  {
   "cell_type": "markdown",
   "metadata": {},
   "source": [
    "# Visualization"
   ]
  },
  {
   "cell_type": "code",
   "execution_count": 58,
   "metadata": {},
   "outputs": [
    {
     "data": {
      "image/png": "[encoded data removed]",
      "text/plain": [
       "<Figure size 800x200 with 6 Axes>"
      ]
     },
     "metadata": {},
     "output_type": "display_data"
    }
   ],
   "source": [
    "model = sa_NN(input_size,output_size, device=device)\n",
    "model.load_state_dict(torch.load('model_backup\\sa_NN_epoch_1400.pth')) # map_location=torch.device('cpu')\n",
    "\n",
    "img, label = trainset[693]\n",
    "img = img.to(device)\n",
    "\n",
    "Q,K,V,Y,att_weights = model.get_matricies(img)\n",
    "\n",
    "fig, ax = plt.subplots(figsize=(8,2), nrows=1, ncols=6)\n",
    "plt.subplot(1,6,1)\n",
    "plt.imshow(Q.squeeze(0).detach().cpu())\n",
    "plt.subplot(1,6,2)\n",
    "plt.imshow(K.squeeze(0).detach().cpu())\n",
    "plt.subplot(1,6,3)\n",
    "plt.imshow(V.squeeze(0).detach().cpu())\n",
    "plt.subplot(1,6,4)\n",
    "plt.imshow(Y.squeeze(0).detach().cpu())\n",
    "plt.subplot(1,6,5)\n",
    "plt.imshow(att_weights.squeeze(0).detach().cpu())\n",
    "plt.subplot(1,6,6)\n",
    "plt.imshow(img.squeeze(0).detach().cpu())\n",
    "\n",
    "plt.subplots_adjust(wspace=0.5)"
   ]
  }
 ],
 "metadata": {
  "kernelspec": {
   "display_name": "Python 3",
   "language": "python",
   "name": "python3"
  },
  "language_info": {
   "codemirror_mode": {
    "name": "ipython",
    "version": 3
   },
   "file_extension": ".py",
   "mimetype": "text/x-python",
   "name": "python",
   "nbconvert_exporter": "python",
   "pygments_lexer": "ipython3",
   "version": "3.11.5"
  }
 },
 "nbformat": 4,
 "nbformat_minor": 2
}
