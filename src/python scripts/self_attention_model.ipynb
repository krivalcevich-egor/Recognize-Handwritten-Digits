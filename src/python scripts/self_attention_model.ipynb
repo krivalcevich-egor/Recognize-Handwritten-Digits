{
 "cells": [
  {
   "cell_type": "markdown",
   "metadata": {},
   "source": [
    "# Library"
   ]
  },
  {
   "cell_type": "code",
   "execution_count": null,
   "metadata": {},
   "outputs": [],
   "source": [
    "import math\n",
    "import numpy as np\n",
    "import torch\n",
    "import torch.nn as nn\n",
    "\n",
    "import torchvision\n",
    "import matplotlib.pyplot as plt\n",
    "from time import time\n",
    "from torchvision import datasets, transforms\n",
    "from torch import nn, optim"
   ]
  },
  {
   "cell_type": "markdown",
   "metadata": {},
   "source": [
    "# Load dataset"
   ]
  },
  {
   "cell_type": "code",
   "execution_count": 33,
   "metadata": {},
   "outputs": [],
   "source": [
    "# Transform image to 1x784 and normalize colors\n",
    "transform = transforms.Compose([\n",
    "    transforms.ToTensor(),\n",
    "    # transforms.Normalize((0.5,), (0.5,))\n",
    "])\n",
    "\n",
    "# Download dataset\n",
    "trainset = datasets.MNIST('PATH_TO_STORE_TRAINSET', download=True, train=True, transform=transform)\n",
    "valset = datasets.MNIST('PATH_TO_STORE_TESTSET', download=True, train=False, transform=transform)\n",
    "\n",
    "# Create dataloaders\n",
    "trainloader = torch.utils.data.DataLoader(trainset, batch_size=100, shuffle=True)\n",
    "valloader = torch.utils.data.DataLoader(valset, batch_size=100, shuffle=True)"
   ]
  },
  {
   "cell_type": "markdown",
   "metadata": {},
   "source": [
    "# Preliminary computation"
   ]
  },
  {
   "cell_type": "code",
   "execution_count": 25,
   "metadata": {},
   "outputs": [
    {
     "name": "stdout",
     "output_type": "stream",
     "text": [
      "tensor([[1.0000, 1.0000, 1.0000, 1.0000, 1.0000, 1.0000, 1.0000, 1.0000, 1.0000,\n",
      "         1.0000, 1.0000, 1.0000, 1.0000, 1.0000, 1.0000, 1.0000, 1.0000, 1.0000,\n",
      "         1.0000, 1.0000, 1.0000, 1.0000, 1.0000, 1.0000, 1.0000, 1.0000, 1.0000,\n",
      "         1.0000]])\n"
     ]
    },
    {
     "data": {
      "image/png": "[encoded data removed]",
      "text/plain": [
       "<Figure size 800x200 with 4 Axes>"
      ]
     },
     "metadata": {},
     "output_type": "display_data"
    }
   ],
   "source": [
    "img, label = trainset[0]\n",
    "input_size = img.shape[1:]\n",
    "\n",
    "Q = img.clone()\n",
    "K = img.clone()\n",
    "V = img.clone()\n",
    "\n",
    "soft_max = nn.Softmax(dim=2)\n",
    "\n",
    "QT = torch.transpose(Q, 1, 2)\n",
    "\n",
    "qTk = torch.bmm(QT, K)\n",
    "atten_weight = soft_max(qTk)\n",
    "\n",
    "Att_pool = torch.bmm(atten_weight, V)\n",
    "\n",
    "fig, ax = plt.subplots(figsize=(8,2), nrows=1, ncols=4)\n",
    "plt.subplot(1,4,1)\n",
    "plt.imshow(Q.squeeze(0))\n",
    "plt.subplot(1,4,2)\n",
    "plt.imshow(qTk.squeeze(0))\n",
    "plt.subplot(1,4,3)\n",
    "plt.imshow(atten_weight.squeeze(0))\n",
    "\n",
    "plt.subplot(1,4,4)\n",
    "plt.imshow(Att_pool.squeeze(0))\n",
    "Att_pool = Att_pool.squeeze(0)\n",
    "print(atten_weight.sum(dim=2))"
   ]
  },
  {
   "cell_type": "markdown",
   "metadata": {},
   "source": [
    "# Model description\n",
    "\n",
    "$$ \\mathrm{Attention}(\\mathbf{q},\\mathbf{k},\\mathbf{v}) = \\sum_{i=1}^m{\\alpha(\\mathbf{q},\\mathbf{k}_i) \\mathbf{v}_i} $$\n",
    "\n",
    "where $\\mathbf{q}, \\mathbf{k}, \\mathbf{v} \\in \\mathbb{R}^d$.\n",
    "\n",
    "Scaled dot product attention scoring function:\n",
    "\n",
    "$$ a(\\mathbf{q},\\mathbf{k}_i) = \\mathbf{q}^T \\mathbf{k}_i / \\sqrt{d} $$\n",
    "\n",
    "Attention weights\n",
    "\n",
    "$$ \\alpha(\\mathbf{q},\\mathbf{k}_i) = \\mathrm{softmax}(a(\\mathbf{q},\\mathbf{k}_i)) = \\frac{\\exp(\\mathbf{q}^T \\mathbf{k}_i / \\sqrt{d})}{\\sum_{j=1}\\exp(\\mathbf{q}^T \\mathbf{k}_j / \\sqrt{d})}$$"
   ]
  },
  {
   "cell_type": "code",
   "execution_count": 43,
   "metadata": {},
   "outputs": [],
   "source": [
    "class DotProductAttention(nn.Module):\n",
    "    \"\"\"Scaled dot product attention.\"\"\"\n",
    "    # def __init__(self, dropout):\n",
    "    def __init__(self):\n",
    "        super().__init__()\n",
    "        # self.dropout = nn.Dropout(dropout)\n",
    "        self.soft_max = nn.Softmax(dim=2)\n",
    "\n",
    "    # Shape of queries: (batch_size, img-height, d)\n",
    "    # Shape of keys: (batch_size, img-height, d)\n",
    "    # Shape of values: (batch_size, img-height, value dimension)\n",
    "    def forward(self, queries, keys, values):\n",
    "        d = queries.shape[2]\n",
    "        # Swap the last two dimensions of keys with keys.transpose(1, 2)\n",
    "        scores = torch.bmm(queries, keys.transpose(1, 2)) / np.sqrt(d)\n",
    "        self.attention_weights = self.soft_max(scores)\n",
    "        # return torch.bmm(self.dropout(self.attention_weights), values)\n",
    "        return torch.bmm(self.attention_weights, values)\n",
    "\n",
    "class sa_NN(nn.Module):\n",
    "    def __init__(self, input_size, num_classes, device='cpu'):\n",
    "        super(sa_NN, self).__init__()\n",
    "        d_model = input_size\n",
    "        self.W_q = nn.Linear(input_size, d_model, device=device)\n",
    "        self.W_k = nn.Linear(input_size, d_model, device=device)\n",
    "        self.W_v = nn.Linear(input_size, d_model, device=device)\n",
    "        self.W_o = nn.Linear(input_size*input_size, num_classes, device=device)\n",
    "        \n",
    "        self.num_classes = num_classes\n",
    "        \n",
    "        self.SDPA = DotProductAttention()\n",
    "\n",
    "        nn.init.xavier_uniform_(self.W_q.weight)\n",
    "        nn.init.xavier_uniform_(self.W_k.weight)\n",
    "        nn.init.xavier_uniform_(self.W_v.weight)\n",
    "        nn.init.xavier_uniform_(self.W_o.weight)\n",
    "\n",
    "    def forward(self, x):\n",
    "        # Multiply input by weights and add biases\n",
    "        \n",
    "        Q = self.W_q(x)\n",
    "        K = self.W_k(x)\n",
    "        V = self.W_v(x)\n",
    "        \n",
    "        out = self.SDPA(Q, K, V)\n",
    "        out = out.reshape(out.shape[0],-1)\n",
    "        out = nn.functional.softmax(self.W_o(out),dim=0)\n",
    "        \n",
    "        return out"
   ]
  },
  {
   "cell_type": "markdown",
   "metadata": {},
   "source": [
    "# Train loop"
   ]
  },
  {
   "cell_type": "code",
   "execution_count": null,
   "metadata": {},
   "outputs": [
    {
     "name": "stdout",
     "output_type": "stream",
     "text": [
      "sa_NN(\n",
      "  (W_q): Linear(in_features=28, out_features=28, bias=True)\n",
      "  (W_k): Linear(in_features=28, out_features=28, bias=True)\n",
      "  (W_v): Linear(in_features=28, out_features=28, bias=True)\n",
      "  (W_o): Linear(in_features=784, out_features=10, bias=True)\n",
      "  (SDPA): DotProductAttention(\n",
      "    (soft_max): Softmax(dim=2)\n",
      "  )\n",
      ")\n",
      "Epoch 1 - Training loss: 2.30216765999794\n",
      "Epoch 2 - Training loss: 2.3014010965824125\n",
      "Epoch 3 - Training loss: 2.3002675008773803\n",
      "Epoch 4 - Training loss: 2.298559977610906\n",
      "Epoch 5 - Training loss: 2.2963872110843657\n",
      "Epoch 6 - Training loss: 2.2944070144494373\n",
      "Epoch 7 - Training loss: 2.2929307536284127\n",
      "Epoch 8 - Training loss: 2.2916798917452494\n",
      "Epoch 9 - Training loss: 2.290489510297775\n",
      "Epoch 10 - Training loss: 2.289341917435328\n",
      "\n",
      "Training Time (in minutes) = 1.642786689599355\n"
     ]
    },
    {
     "data": {
      "image/png": "[encoded data removed]",
      "text/plain": [
       "<Figure size 1000x500 with 1 Axes>"
      ]
     },
     "metadata": {},
     "output_type": "display_data"
    }
   ],
   "source": [
    "# Build the Neural Network\n",
    "input_size = 28  # 28x28 images flattened\n",
    "output_size = 10  # 10 classes for digits 0-9\n",
    "\n",
    "model = sa_NN(input_size,output_size)\n",
    "print(model)\n",
    "\n",
    "criterion = nn.CrossEntropyLoss()  # Use CrossEntropyLoss which includes softmax\n",
    "optimizer = optim.SGD(model.parameters(), lr=0.003, momentum=0.9)\n",
    "\n",
    "# Track MSE and loss\n",
    "mse_list = []\n",
    "loss_list = []\n",
    "\n",
    "# Training the network\n",
    "epochs = 10\n",
    "time0 = time()\n",
    "\n",
    "for e in range(epochs):\n",
    "    running_loss = 0\n",
    "    mse_loss = 0\n",
    "    for images, labels in trainloader:\n",
    "        # images = images.view(images.shape[0], -1)\n",
    "        images = images.squeeze(1) \n",
    "        # Training pass\n",
    "        optimizer.zero_grad()\n",
    "        \n",
    "        output = model(images)\n",
    "        loss = criterion(output, labels)\n",
    "        \n",
    "        # Calculate MSE\n",
    "        with torch.no_grad():\n",
    "            mse_loss += torch.mean((output - nn.functional.one_hot(labels, num_classes=10).float())**2).item()\n",
    "        \n",
    "        # This is where the model learns by back propagating\n",
    "        loss.backward()\n",
    "        \n",
    "        # And optimizes its weights here\n",
    "        optimizer.step()\n",
    "        \n",
    "        running_loss += loss.item()\n",
    "    \n",
    "    loss_list.append(running_loss / len(trainloader))\n",
    "    mse_list.append(mse_loss / len(trainloader))\n",
    "    print(f\"Epoch {e+1} - Training loss: {running_loss/len(trainloader)}\")\n",
    "    \n",
    "print(f\"\\nTraining Time (in minutes) = {(time()-time0)/60}\")\n",
    "\n",
    "# Convert lists to numpy arrays\n",
    "loss_array = np.array(loss_list)\n",
    "mse_array = np.array(mse_list)\n",
    "\n",
    "# Save arrays to .npy files\n",
    "# np.save('loss_values.npy', loss_array)\n",
    "# np.save('mse_values.npy', mse_array)\n",
    "\n",
    "# Save the model\n",
    "# torch.save(model.state_dict(), 'for_presentation.pth')\n",
    "\n",
    "# Plot MSE\n",
    "plt.figure(figsize=(10, 5))\n",
    "plt.plot(range(1, epochs + 1), mse_list, label='MSE')\n",
    "plt.xlabel('Epochs')\n",
    "plt.ylabel('MSE')\n",
    "plt.title('Mean Squared Error During Training')\n",
    "plt.legend()\n",
    "plt.show()"
   ]
  }
 ],
 "metadata": {
  "kernelspec": {
   "display_name": "Python 3",
   "language": "python",
   "name": "python3"
  },
  "language_info": {
   "codemirror_mode": {
    "name": "ipython",
    "version": 3
   },
   "file_extension": ".py",
   "mimetype": "text/x-python",
   "name": "python",
   "nbconvert_exporter": "python",
   "pygments_lexer": "ipython3",
   "version": "3.11.5"
  }
 },
 "nbformat": 4,
 "nbformat_minor": 2
}
