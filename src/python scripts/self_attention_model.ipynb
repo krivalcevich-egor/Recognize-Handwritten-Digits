{
 "cells": [
  {
   "cell_type": "markdown",
   "metadata": {},
   "source": [
    "# Library"
   ]
  },
  {
   "cell_type": "code",
   "execution_count": 14,
   "metadata": {},
   "outputs": [
    {
     "name": "stdout",
     "output_type": "stream",
     "text": [
      "Working on device cuda\n"
     ]
    }
   ],
   "source": [
    "import numpy as np\n",
    "import torch\n",
    "import torch.nn as nn\n",
    "from torch.optim import lr_scheduler\n",
    "\n",
    "import torchvision\n",
    "import matplotlib.pyplot as plt\n",
    "from time import time\n",
    "from torchvision import datasets, transforms\n",
    "from torch import nn, optim\n",
    "from tqdm import tqdm\n",
    "\n",
    "device = torch.device('cuda' if torch.cuda.is_available() else 'cpu')\n",
    "print(f\"Working on device {device}\")"
   ]
  },
  {
   "cell_type": "markdown",
   "metadata": {},
   "source": [
    "# Load dataset"
   ]
  },
  {
   "cell_type": "code",
   "execution_count": 2,
   "metadata": {},
   "outputs": [],
   "source": [
    "# Transform image to 1x784 and normalize colors\n",
    "transform = transforms.Compose([\n",
    "    transforms.ToTensor(),\n",
    "    transforms.Normalize((0.5,), (0.5,))\n",
    "])\n",
    "\n",
    "# Download dataset\n",
    "trainset = datasets.MNIST('dataset', download=False, train=True, transform=transform)\n",
    "valset = datasets.MNIST('dataset', download=False, train=False, transform=transform)\n",
    "\n",
    "# Create dataloaders\n",
    "trainloader = torch.utils.data.DataLoader(trainset, batch_size=5000, shuffle=True)\n",
    "valloader = torch.utils.data.DataLoader(valset, batch_size=1000, shuffle=True)\n",
    "\n",
    "# for idx, (data, target) in enumerate(trainloader):\n",
    "#     data = data.to(device)\n",
    "#     target = target.to(device)\n",
    "\n",
    "# for idx, (data, target) in enumerate(valloader):\n",
    "#     data = data.to(device)\n",
    "#     target = target.to(device)    "
   ]
  },
  {
   "cell_type": "markdown",
   "metadata": {},
   "source": [
    "# Preliminary computation"
   ]
  },
  {
   "cell_type": "code",
   "execution_count": 30,
   "metadata": {},
   "outputs": [
    {
     "name": "stdout",
     "output_type": "stream",
     "text": [
      "tensor([[1.0000, 1.0000, 1.0000, 1.0000, 1.0000, 1.0000, 1.0000, 1.0000, 1.0000,\n",
      "         1.0000, 1.0000, 1.0000, 1.0000, 1.0000, 1.0000, 1.0000, 1.0000, 1.0000,\n",
      "         1.0000, 1.0000, 1.0000, 1.0000, 1.0000, 1.0000, 1.0000, 1.0000, 1.0000,\n",
      "         1.0000]])\n"
     ]
    },
    {
     "data": {
      "image/png": "[encoded data removed]",
      "text/plain": [
       "<Figure size 800x200 with 4 Axes>"
      ]
     },
     "metadata": {},
     "output_type": "display_data"
    }
   ],
   "source": [
    "img, label = trainset[4]\n",
    "input_size = img.shape[1:]\n",
    "\n",
    "Q = img.clone()\n",
    "K = img.clone()\n",
    "V = img.clone()\n",
    "\n",
    "soft_max = nn.Softmax(dim=2)\n",
    "\n",
    "QT = torch.transpose(Q, 1, 2)\n",
    "\n",
    "qTk = torch.bmm(QT, K)\n",
    "atten_weight = soft_max(qTk)\n",
    "\n",
    "Att_pool = torch.bmm(atten_weight, V)\n",
    "\n",
    "fig, ax = plt.subplots(figsize=(8,2), nrows=1, ncols=4)\n",
    "plt.subplot(1,4,1)\n",
    "plt.imshow(Q.squeeze(0))\n",
    "plt.subplot(1,4,2)\n",
    "plt.imshow(qTk.squeeze(0))\n",
    "plt.subplot(1,4,3)\n",
    "plt.imshow(atten_weight.squeeze(0))\n",
    "\n",
    "plt.subplot(1,4,4)\n",
    "plt.imshow(Att_pool.squeeze(0))\n",
    "Att_pool = Att_pool.squeeze(0)\n",
    "print(atten_weight.sum(dim=2))"
   ]
  },
  {
   "cell_type": "markdown",
   "metadata": {},
   "source": [
    "# Model description\n",
    "\n",
    "$$ \\mathrm{Attention}(\\mathbf{q},\\mathbf{k},\\mathbf{v}) = \\sum_{i=1}^m{\\alpha(\\mathbf{q},\\mathbf{k}_i) \\mathbf{v}_i} $$\n",
    "\n",
    "where $\\mathbf{q}, \\mathbf{k}, \\mathbf{v} \\in \\mathbb{R}^d$.\n",
    "\n",
    "Scaled dot product attention scoring function:\n",
    "\n",
    "$$ a(\\mathbf{q},\\mathbf{k}_i) = \\mathbf{q}^T \\mathbf{k}_i / \\sqrt{d} $$\n",
    "\n",
    "Attention weights\n",
    "\n",
    "$$ \\alpha(\\mathbf{q},\\mathbf{k}_i) = \\mathrm{softmax}(a(\\mathbf{q},\\mathbf{k}_i)) = \\frac{\\exp(\\mathbf{q}^T \\mathbf{k}_i / \\sqrt{d})}{\\sum_{j=1}\\exp(\\mathbf{q}^T \\mathbf{k}_j / \\sqrt{d})}$$"
   ]
  },
  {
   "cell_type": "code",
   "execution_count": 33,
   "metadata": {},
   "outputs": [],
   "source": [
    "class DotProductAttention(nn.Module):\n",
    "    \"\"\"Scaled dot product attention.\"\"\"\n",
    "    # def __init__(self, dropout):\n",
    "    def __init__(self):\n",
    "        super().__init__()\n",
    "        # self.dropout = nn.Dropout(dropout)\n",
    "        self.soft_max = nn.Softmax(dim=2)\n",
    "        \n",
    "\n",
    "    # Shape of queries: (batch_size, img-height, d)\n",
    "    # Shape of keys: (batch_size, img-height, d)\n",
    "    # Shape of values: (batch_size, img-height, value dimension)\n",
    "    def forward(self, queries, keys, values):\n",
    "        d = queries.shape[2]\n",
    "        # Swap the last two dimensions of keys with keys.transpose(1, 2)\n",
    "        scores = torch.bmm(queries, keys.transpose(1, 2)) / np.sqrt(d)\n",
    "        self.attention_weights = self.soft_max(scores)\n",
    "        # return torch.bmm(self.dropout(self.attention_weights), values)\n",
    "        return torch.bmm(self.attention_weights, values)\n",
    "\n",
    "class sa_NN(nn.Module):\n",
    "    def __init__(self, input_size, num_classes, device='cpu'):\n",
    "        super(sa_NN, self).__init__()\n",
    "        d_model = input_size\n",
    "        self.W_q = nn.Linear(input_size, d_model, device=device)\n",
    "        self.W_k = nn.Linear(input_size, d_model, device=device)\n",
    "        self.W_v = nn.Linear(input_size, d_model, device=device)\n",
    "        self.W_o = nn.Linear(input_size*input_size, num_classes, device=device)\n",
    "        \n",
    "        self.num_classes = num_classes\n",
    "        \n",
    "        self.SDPA = DotProductAttention()\n",
    "\n",
    "        self.log_softmax = nn.LogSoftmax(dim=1)\n",
    "\n",
    "        nn.init.xavier_uniform_(self.W_q.weight)\n",
    "        nn.init.xavier_uniform_(self.W_k.weight)\n",
    "        nn.init.xavier_uniform_(self.W_v.weight)\n",
    "        nn.init.xavier_uniform_(self.W_o.weight)\n",
    "\n",
    "    def forward(self, x):\n",
    "        # Multiply input by weights and add biases\n",
    "        \n",
    "        Q = self.W_q(x)\n",
    "        K = self.W_k(x)\n",
    "        V = self.W_v(x)\n",
    "        \n",
    "        out = self.SDPA(Q, K, V)\n",
    "        out = out.reshape(out.shape[0],-1)\n",
    "        # out = nn.functional.softmax(self.W_o(out),dim=0)\n",
    "        out = self.log_softmax(self.W_o(out))\n",
    "        \n",
    "        return out\n",
    "    \n",
    "    def get_matricies(self, x):\n",
    "        Q = self.W_q(x)\n",
    "        K = self.W_k(x)\n",
    "        V = self.W_v(x)\n",
    "        y = self.SDPA(Q, K, V)\n",
    "\n",
    "        return Q,K,V,y,self.SDPA.attention_weights"
   ]
  },
  {
   "cell_type": "markdown",
   "metadata": {},
   "source": [
    "# Train loop"
   ]
  },
  {
   "cell_type": "code",
   "execution_count": 46,
   "metadata": {},
   "outputs": [
    {
     "name": "stdout",
     "output_type": "stream",
     "text": [
      "Epoch 0 - Training loss: 0.22400\n",
      "Epoch 1 - Training loss: 0.22295\n",
      "Epoch 2 - Training loss: 0.22213\n",
      "Epoch 3 - Training loss: 0.22170\n",
      "Epoch 4 - Training loss: 0.22135\n",
      "Epoch 5 - Training loss: 0.22177\n",
      "Epoch 6 - Training loss: 0.22170\n",
      "Epoch 7 - Training loss: 0.22116\n",
      "Epoch 8 - Training loss: 0.22134\n",
      "Epoch 9 - Training loss: 0.22164\n",
      "Epoch 10 - Training loss: 0.22133\n",
      "Epoch 11 - Training loss: 0.22119\n",
      "Epoch 12 - Training loss: 0.22133\n",
      "Epoch 13 - Training loss: 0.22143\n",
      "Epoch 14 - Training loss: 0.22133\n",
      "Epoch 15 - Training loss: 0.22103\n",
      "Epoch 16 - Training loss: 0.22103\n",
      "Epoch 17 - Training loss: 0.22081\n",
      "Epoch 18 - Training loss: 0.22092\n",
      "Epoch 19 - Training loss: 0.22092\n",
      "Epoch 20 - Training loss: 0.22079\n",
      "Epoch 21 - Training loss: 0.22078\n",
      "Epoch 22 - Training loss: 0.22085\n",
      "Epoch 23 - Training loss: 0.22090\n",
      "Epoch 24 - Training loss: 0.22089\n",
      "Epoch 25 - Training loss: 0.22069\n",
      "Epoch 26 - Training loss: 0.22063\n",
      "Epoch 27 - Training loss: 0.22059\n",
      "Epoch 28 - Training loss: 0.22058\n",
      "Epoch 29 - Training loss: 0.22054\n",
      "Epoch 30 - Training loss: 0.22051\n",
      "Epoch 31 - Training loss: 0.22055\n",
      "Epoch 32 - Training loss: 0.22047\n",
      "Epoch 33 - Training loss: 0.22045\n",
      "Epoch 34 - Training loss: 0.22039\n",
      "Epoch 35 - Training loss: 0.22039\n",
      "Epoch 36 - Training loss: 0.22036\n",
      "Epoch 37 - Training loss: 0.22037\n",
      "Epoch 38 - Training loss: 0.22039\n",
      "Epoch 39 - Training loss: 0.22031\n",
      "Epoch 40 - Training loss: 0.22032\n",
      "Epoch 41 - Training loss: 0.22034\n",
      "Epoch 42 - Training loss: 0.22035\n",
      "Epoch 43 - Training loss: 0.22026\n",
      "Epoch 44 - Training loss: 0.22032\n",
      "Epoch 45 - Training loss: 0.22027\n",
      "Epoch 46 - Training loss: 0.22029\n",
      "Epoch 47 - Training loss: 0.22027\n",
      "Epoch 48 - Training loss: 0.22033\n",
      "Epoch 49 - Training loss: 0.22028\n",
      "Epoch 50 - Training loss: 0.22025\n",
      "Epoch 51 - Training loss: 0.22021\n",
      "Epoch 52 - Training loss: 0.22022\n",
      "Epoch 53 - Training loss: 0.22022\n",
      "Epoch 54 - Training loss: 0.22020\n",
      "Epoch 55 - Training loss: 0.22019\n",
      "Epoch 56 - Training loss: 0.22020\n",
      "Epoch 57 - Training loss: 0.22020\n",
      "Epoch 58 - Training loss: 0.22020\n",
      "Epoch 59 - Training loss: 0.22018\n",
      "Epoch 60 - Training loss: 0.22017\n",
      "Epoch 61 - Training loss: 0.22019\n",
      "Epoch 62 - Training loss: 0.22016\n",
      "Epoch 63 - Training loss: 0.22016\n",
      "Epoch 64 - Training loss: 0.22015\n",
      "Epoch 65 - Training loss: 0.22015\n",
      "Epoch 66 - Training loss: 0.22014\n",
      "Epoch 67 - Training loss: 0.22014\n",
      "Epoch 68 - Training loss: 0.22015\n",
      "Epoch 69 - Training loss: 0.22014\n",
      "Epoch 70 - Training loss: 0.22015\n",
      "Epoch 71 - Training loss: 0.22014\n",
      "Epoch 72 - Training loss: 0.22013\n",
      "Epoch 73 - Training loss: 0.22015\n",
      "Epoch 74 - Training loss: 0.22013\n",
      "Epoch 75 - Training loss: 0.22013\n",
      "Epoch 76 - Training loss: 0.22012\n",
      "Epoch 77 - Training loss: 0.22013\n",
      "Epoch 78 - Training loss: 0.22012\n",
      "Epoch 79 - Training loss: 0.22012\n",
      "Epoch 80 - Training loss: 0.22011\n",
      "Epoch 81 - Training loss: 0.22011\n",
      "Epoch 82 - Training loss: 0.22011\n",
      "Epoch 83 - Training loss: 0.22012\n",
      "Epoch 84 - Training loss: 0.22011\n",
      "Epoch 85 - Training loss: 0.22010\n",
      "Epoch 86 - Training loss: 0.22011\n",
      "Epoch 87 - Training loss: 0.22010\n",
      "Epoch 88 - Training loss: 0.22010\n",
      "Epoch 89 - Training loss: 0.22010\n",
      "Epoch 90 - Training loss: 0.22010\n",
      "Epoch 91 - Training loss: 0.22010\n",
      "Epoch 92 - Training loss: 0.22009\n",
      "Epoch 93 - Training loss: 0.22010\n",
      "Epoch 94 - Training loss: 0.22009\n",
      "Epoch 95 - Training loss: 0.22009\n",
      "Epoch 96 - Training loss: 0.22009\n",
      "Epoch 97 - Training loss: 0.22010\n",
      "Epoch 98 - Training loss: 0.22009\n",
      "Epoch 99 - Training loss: 0.22009\n",
      "\n",
      "Training Time (in minutes) = 13.61\n"
     ]
    }
   ],
   "source": [
    "# Build the Neural Network\n",
    "input_size = 28  # 28x28 images flattened\n",
    "output_size = 10  # 10 classes for digits 0-9\n",
    "\n",
    "N_epoch = 1300\n",
    "model = sa_NN(input_size,output_size, device=device)\n",
    "model.load_state_dict(torch.load(f'model_backup\\sa_NN_epoch_{N_epoch}.pth')) #, map_location=torch.device('cpu')\n",
    "# model = torch.load('model_backup\\sa_NN_epoch_100.pth')\n",
    "# print(model)\n",
    "model.to(device)\n",
    "\n",
    "# criterion = nn.CrossEntropyLoss()  # Use CrossEntropyLoss which includes softmax\n",
    "criterion = nn.NLLLoss()  # Use CrossEntropyLoss which includes softmax\n",
    "# optimizer = optim.SGD(model.parameters(), lr=0.05, momentum=0.9)\n",
    "optimizer = optim.Adam(model.parameters(), lr=5e-4)\n",
    "scheduler = lr_scheduler.StepLR(optimizer, step_size=10, gamma=0.96, verbose=False)\n",
    "\n",
    "# Track loss\n",
    "loss_list = []\n",
    "\n",
    "# Training the network\n",
    "epochs = 100\n",
    "time0 = time()\n",
    "\n",
    "for epoch in range(epochs):\n",
    "    running_loss = 0\n",
    "\n",
    "    # for images, labels in tqdm(trainloader, leave=False):\n",
    "    for images, labels in trainloader:\n",
    "        images = images.to(device)\n",
    "        labels = labels.to(device)\n",
    "\n",
    "        images = images.squeeze(1)                 \n",
    "        \n",
    "        labels.to(device)\n",
    "\n",
    "        # Training pass\n",
    "        optimizer.zero_grad()\n",
    "        \n",
    "        output = model(images)\n",
    "        loss = criterion(output, labels)               \n",
    "        \n",
    "        # This is where the model learns by back propagating\n",
    "        loss.backward()\n",
    "        \n",
    "        # And optimizes its weights here\n",
    "        optimizer.step()\n",
    "        scheduler.step()\n",
    "        \n",
    "        running_loss += loss.item()\n",
    "   \n",
    "    CE_curr = running_loss / len(trainloader)\n",
    "    loss_list.append(CE_curr)\n",
    "    # if (epoch%10)==0:\n",
    "    print(f\"Epoch {epoch} - Training loss: {CE_curr:.5f}\")\n",
    "    \n",
    "    \n",
    "print(f\"\\nTraining Time (in minutes) = {(time()-time0)/60:.2f}\")\n",
    "\n",
    "# Convert lists to numpy arrays\n",
    "loss_array = np.array(loss_list)\n",
    "\n",
    "# Save arrays to .npy files\n",
    "np.save('loss_values.npy', loss_array)\n",
    "\n",
    "# Save the model\n",
    "torch.save(model.state_dict(), f'model_backup\\sa_NN_epoch_{N_epoch+epochs}.pth')\n"
   ]
  },
  {
   "cell_type": "code",
   "execution_count": 47,
   "metadata": {},
   "outputs": [
    {
     "data": {
      "image/png": "[encoded data removed]",
      "text/plain": [
       "<Figure size 500x200 with 1 Axes>"
      ]
     },
     "metadata": {},
     "output_type": "display_data"
    }
   ],
   "source": [
    "# Plot NLL_loss\n",
    "plt.figure(figsize=(5, 2))\n",
    "plt.plot(range(len(loss_array)), loss_array, label='NLLoss')\n",
    "plt.xlabel('Epochs')\n",
    "plt.ylabel('NNLoss')\n",
    "plt.title('NNLoss')\n",
    "# plt.legend()\n",
    "plt.show()"
   ]
  },
  {
   "cell_type": "markdown",
   "metadata": {},
   "source": [
    "# NN test"
   ]
  },
  {
   "cell_type": "code",
   "execution_count": 48,
   "metadata": {},
   "outputs": [
    {
     "name": "stdout",
     "output_type": "stream",
     "text": [
      "Accuracy =  0.921\n"
     ]
    }
   ],
   "source": [
    "input_size = 28  # 28x28 images flattened\n",
    "output_size = 10  # 10 classes for digits 0-9\n",
    "\n",
    "model = sa_NN(input_size,output_size, device=device)\n",
    "model.load_state_dict(torch.load('model_backup\\sa_NN_epoch_1400.pth', map_location=torch.device('cpu')))\n",
    "# model.load_state_dict(torch.load('model_backup\\sa_NN_epoch_1000.pth'))\n",
    "model.to(device)\n",
    "\n",
    "correct = 0\n",
    "total = 0\n",
    "\n",
    "model.eval()\n",
    "for X, y_true in valloader:\n",
    "    X = X.squeeze(1) \n",
    "    X = X.to(device)\n",
    "    y_true = y_true.to(device)\n",
    "    \n",
    "    outputs = model(X)\n",
    "    _,y_pred = torch.max(outputs, dim=1)\n",
    "    total +=y_true.shape[0]\n",
    "    correct +=int((y_pred==y_true).sum())\n",
    "\n",
    "print(f\"Accuracy = {correct/total: .3f}\")"
   ]
  },
  {
   "cell_type": "markdown",
   "metadata": {},
   "source": [
    "# Visualization"
   ]
  },
  {
   "cell_type": "code",
   "execution_count": 58,
   "metadata": {},
   "outputs": [
    {
     "data": {
      "image/png": "[encoded data removed]",
      "text/plain": [
       "<Figure size 800x200 with 6 Axes>"
      ]
     },
     "metadata": {},
     "output_type": "display_data"
    }
   ],
   "source": [
    "model = sa_NN(input_size,output_size, device=device)\n",
    "model.load_state_dict(torch.load('model_backup\\sa_NN_epoch_1400.pth')) # map_location=torch.device('cpu')\n",
    "\n",
    "img, label = trainset[693]\n",
    "img = img.to(device)\n",
    "\n",
    "Q,K,V,Y,att_weights = model.get_matricies(img)\n",
    "\n",
    "fig, ax = plt.subplots(figsize=(8,2), nrows=1, ncols=6)\n",
    "plt.subplot(1,6,1)\n",
    "plt.imshow(Q.squeeze(0).detach().cpu())\n",
    "plt.subplot(1,6,2)\n",
    "plt.imshow(K.squeeze(0).detach().cpu())\n",
    "plt.subplot(1,6,3)\n",
    "plt.imshow(V.squeeze(0).detach().cpu())\n",
    "plt.subplot(1,6,4)\n",
    "plt.imshow(Y.squeeze(0).detach().cpu())\n",
    "plt.subplot(1,6,5)\n",
    "plt.imshow(att_weights.squeeze(0).detach().cpu())\n",
    "plt.subplot(1,6,6)\n",
    "plt.imshow(img.squeeze(0).detach().cpu())\n",
    "\n",
    "plt.subplots_adjust(wspace=0.5)"
   ]
  }
 ],
 "metadata": {
  "kernelspec": {
   "display_name": "Python 3",
   "language": "python",
   "name": "python3"
  },
  "language_info": {
   "codemirror_mode": {
    "name": "ipython",
    "version": 3
   },
   "file_extension": ".py",
   "mimetype": "text/x-python",
   "name": "python",
   "nbconvert_exporter": "python",
   "pygments_lexer": "ipython3",
   "version": "3.11.5"
  }
 },
 "nbformat": 4,
 "nbformat_minor": 2
}
