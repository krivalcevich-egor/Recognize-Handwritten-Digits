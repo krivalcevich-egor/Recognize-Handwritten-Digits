{
 "cells": [
  {
   "cell_type": "code",
   "execution_count": 60,
   "metadata": {},
   "outputs": [],
   "source": [
    "file = open('weight_0.mem', mode='r')\n",
    "file_out = open('weight_0.sv', mode='w')\n",
    "\n",
    "i = 0\n",
    "for content in file:\n",
    "    file_out.write(f\"10'b{i:010b}: data <= 22'h{content[:-1]}; \\n\")\n",
    "    i = i + 1\n",
    "file_out.close()"
   ]
  }
 ],
 "metadata": {
  "kernelspec": {
   "display_name": "Python 3",
   "language": "python",
   "name": "python3"
  },
  "language_info": {
   "codemirror_mode": {
    "name": "ipython",
    "version": 3
   },
   "file_extension": ".py",
   "mimetype": "text/x-python",
   "name": "python",
   "nbconvert_exporter": "python",
   "pygments_lexer": "ipython3",
   "version": "3.8.10"
  }
 },
 "nbformat": 4,
 "nbformat_minor": 2
}
