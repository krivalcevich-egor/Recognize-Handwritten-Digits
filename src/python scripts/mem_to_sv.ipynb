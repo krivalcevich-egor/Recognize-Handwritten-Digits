{
 "cells": [
  {
   "cell_type": "code",
   "execution_count": 16,
   "metadata": {},
   "outputs": [],
   "source": [
    "import os\n",
    "\n",
    "\n",
    "def convert_mem_to_sv():\n",
    "    int_bits = 6\n",
    "    frac_bits = range(1,17)\n",
    "    N_classes = 10\n",
    "    for N in range(N_classes):\n",
    "       \n",
    "        # Create sv-file with ROM description\n",
    "        path = f\"ROM_files\\sv\\\\\"\n",
    "        if not os.path.exists(path):\n",
    "            os.makedirs(path)\n",
    "            \n",
    "        filename = path + f'ROM_weights_{N}.sv'\n",
    "        file_out = open(filename, mode='w')\n",
    "\n",
    "        file_out.write(f\"`timescale 1ns / 1ps \\n \\n\")\n",
    "        file_out.write(f\"////////////////////////////////////////////////////////////////////////////////// \\n\")\n",
    "        file_out.write(f\"// WEIGHT MEMORY (ROM) \\n\")\n",
    "        file_out.write(f\"////////////////////////////////////////////////////////////////////////////////// \\n\")\n",
    "\n",
    "        file_out.write(f\"module ROM_weights_{N} #( \\n\")\n",
    "        file_out.write(f\"    parameter int WGHT_INT = 6, // integer part \\n\")\n",
    "        file_out.write(f\"    parameter int WGHT_FRC = 16 // fractional part \\n\")\n",
    "        file_out.write(f\")( \\n\")\n",
    "        file_out.write(f\"    input logic clk, // clock \\n\") \n",
    "        file_out.write(f\"    input logic [9:0] address,\\n\") \n",
    "        file_out.write(f\"    output [WGHT_INT + WGHT_FRC-1:0] dout \\n\") \n",
    "        file_out.write(f\"); \\n\\n\") \n",
    "        file_out.write(f'(* rom_style = \"block\" *) reg [WGHT_INT + WGHT_FRC-1:0] data;\\n') \n",
    "\n",
    "        \n",
    "        # Open mem-file with memory content\n",
    "        for f_bits in frac_bits:\n",
    "            filename = f'ROM_files\\mem\\\\format_q{int_bits}_{f_bits}\\\\weight_q{int_bits}_{f_bits}_N{N}.mem'\n",
    "            file = open(filename, mode='r')\n",
    "\n",
    "            file_out.write(f\"generate \\n\")\n",
    "            file_out.write(f\"  if (WGHT_FRC == {f_bits}) begin  \\n\")\n",
    "            \n",
    "            file_out.write(f\"    always @(posedge clk) \\n\") \n",
    "            file_out.write(f\"      begin \\n\") \n",
    "            file_out.write(f\"        case(address) \\n\") \n",
    "\n",
    "            i = 0\n",
    "            for content in file:\n",
    "                file_out.write(f\"        10'b{i:010b}: data <= {int_bits+f_bits}'h{content[:-1]}; \\n\")\n",
    "                i = i + 1\n",
    "\n",
    "            file_out.write(f\"      endcase \\n\")\n",
    "            file_out.write(f\"    end \\n\")\n",
    "            file_out.write(f\"  end \\n\")\n",
    "            file_out.write(f\"endgenerate \\n\")\n",
    "            file.close()\n",
    "            \n",
    "        file_out.write(f\"assign dout = data; \\n\")\n",
    "        file_out.write(f\"endmodule\\n\")\n",
    "\n",
    "        file_out.close()"
   ]
  },
  {
   "cell_type": "code",
   "execution_count": 17,
   "metadata": {},
   "outputs": [],
   "source": [
    "convert_mem_to_sv()"
   ]
  }
 ],
 "metadata": {
  "kernelspec": {
   "display_name": "Python 3",
   "language": "python",
   "name": "python3"
  },
  "language_info": {
   "codemirror_mode": {
    "name": "ipython",
    "version": 3
   },
   "file_extension": ".py",
   "mimetype": "text/x-python",
   "name": "python",
   "nbconvert_exporter": "python",
   "pygments_lexer": "ipython3",
   "version": "3.11.5"
  }
 },
 "nbformat": 4,
 "nbformat_minor": 2
}
