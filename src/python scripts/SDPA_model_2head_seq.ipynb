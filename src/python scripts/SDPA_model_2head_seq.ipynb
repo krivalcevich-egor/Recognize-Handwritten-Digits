{
 "cells": [
  {
   "cell_type": "markdown",
   "metadata": {},
   "source": [
    "# Library"
   ]
  },
  {
   "cell_type": "code",
   "execution_count": 1,
   "metadata": {},
   "outputs": [
    {
     "name": "stdout",
     "output_type": "stream",
     "text": [
      "Working on device cpu\n"
     ]
    }
   ],
   "source": [
    "import numpy as np\n",
    "import torch\n",
    "import torch.nn as nn\n",
    "from torch.optim import lr_scheduler\n",
    "\n",
    "import torchvision\n",
    "import matplotlib.pyplot as plt\n",
    "from time import time\n",
    "from torchvision import datasets, transforms\n",
    "from torch import nn, optim\n",
    "from tqdm import tqdm\n",
    "\n",
    "device = torch.device('cuda' if torch.cuda.is_available() else 'cpu')\n",
    "print(f\"Working on device {device}\")"
   ]
  },
  {
   "cell_type": "markdown",
   "metadata": {},
   "source": [
    "# Load dataset"
   ]
  },
  {
   "cell_type": "code",
   "execution_count": 2,
   "metadata": {},
   "outputs": [],
   "source": [
    "# Transform image to 1x784 and normalize colors\n",
    "transform = transforms.Compose([\n",
    "    transforms.ToTensor(),\n",
    "    transforms.Normalize((0.5,), (0.5,))\n",
    "])\n",
    "\n",
    "# Download dataset\n",
    "trainset = datasets.MNIST('dataset', download=False, train=True, transform=transform)\n",
    "valset_full = datasets.MNIST('dataset', download=False, train=False, transform=transform)\n",
    "\n",
    "val_size, test_size = 1000, 9000\n",
    "val_dataset, test_dataset = torch.utils.data.random_split(valset_full, [val_size, test_size], generator=torch.Generator().manual_seed(27))\n",
    "\n",
    "# Create dataloaders\n",
    "trainloader = torch.utils.data.DataLoader(trainset, batch_size=2000, shuffle=True)\n",
    "val_loader = torch.utils.data.DataLoader(val_dataset, batch_size=1000, shuffle=False)\n",
    "test_loader = torch.utils.data.DataLoader(test_dataset, batch_size=1000, shuffle=False)\n",
    "\n",
    "\n",
    "# for idx, (data, target) in enumerate(trainloader):\n",
    "#     data = data.to(device)\n",
    "#     target = target.to(device)\n",
    "\n",
    "# for idx, (data, target) in enumerate(valloader):\n",
    "#     data = data.to(device)\n",
    "#     target = target.to(device)    "
   ]
  },
  {
   "cell_type": "markdown",
   "metadata": {},
   "source": [
    "# Preliminary computation"
   ]
  },
  {
   "cell_type": "code",
   "execution_count": 32,
   "metadata": {},
   "outputs": [],
   "source": [
    "class DotProductAttention(nn.Module):\n",
    "    \"\"\"Scaled dot product attention.\"\"\"\n",
    "    # def __init__(self, dropout):\n",
    "    def __init__(self):\n",
    "        super().__init__()\n",
    "        # self.dropout = nn.Dropout(dropout)\n",
    "        self.soft_max = nn.Softmax(dim=2)\n",
    "        \n",
    "    # Shape of queries: (batch_size, img-height, d)\n",
    "    # Shape of keys: (batch_size, img-height, d)\n",
    "    # Shape of values: (batch_size, img-height, value dimension)\n",
    "    def forward(self, queries, keys, values):\n",
    "        d = queries.shape[2]\n",
    "        # Swap the last two dimensions of keys with keys.transpose(1, 2)\n",
    "        scores = torch.bmm(queries, keys.transpose(1, 2)) / np.sqrt(d)\n",
    "        self.attention_weights = self.soft_max(scores)\n",
    "        # return torch.bmm(self.dropout(self.attention_weights), values)\n",
    "        return torch.bmm(self.attention_weights, values)\n",
    "\n",
    "class SDPA_2H_seq_NN(nn.Module):\n",
    "    def __init__(self, input_size, num_classes, device='cpu'):\n",
    "        super(SDPA_2H_seq_NN, self).__init__()\n",
    "        # d_model = input_size\n",
    "        \n",
    "        self.W_q1 = nn.Linear(input_size, input_size, device=device)\n",
    "        self.W_k1 = nn.Linear(input_size, input_size, device=device)\n",
    "        self.W_v1 = nn.Linear(input_size, input_size, device=device)\n",
    "        \n",
    "        d_model = input_size\n",
    "        self.W_q2 = nn.Linear(input_size, d_model, device=device)\n",
    "        self.W_k2 = nn.Linear(input_size, d_model, device=device)\n",
    "        self.W_v2 = nn.Linear(input_size, d_model, device=device)\n",
    "        \n",
    "        self.W_o = nn.Linear(input_size*d_model, num_classes, device=device)\n",
    "        \n",
    "        self.num_classes = num_classes\n",
    "        \n",
    "        self.SDPA_h1 = DotProductAttention()\n",
    "        self.SDPA_h2 = DotProductAttention()\n",
    "\n",
    "        self.log_softmax = nn.LogSoftmax(dim=1)\n",
    "\n",
    "        self.BN1 = nn.BatchNorm2d(1)\n",
    "        self.BN2 = nn.BatchNorm2d(1)\n",
    "        \n",
    "        nn.init.xavier_uniform_(self.W_q1.weight)\n",
    "        nn.init.xavier_uniform_(self.W_k1.weight)\n",
    "        nn.init.xavier_uniform_(self.W_v1.weight)\n",
    "        nn.init.xavier_uniform_(self.W_q2.weight)\n",
    "        nn.init.xavier_uniform_(self.W_k2.weight)\n",
    "        nn.init.xavier_uniform_(self.W_v2.weight)\n",
    "        nn.init.xavier_uniform_(self.W_o.weight)\n",
    "\n",
    "    def forward(self, x):\n",
    "        # Multiply input by weights and add biases\n",
    "        \n",
    "        Q1 = self.W_q1(x)\n",
    "        K1 = self.W_k1(x)\n",
    "        V1 = self.W_v1(x)\n",
    "        \n",
    "        sdpa_out = self.SDPA_h1(Q1, K1, V1)\n",
    "        out = self.BN1(sdpa_out.unsqueeze(1) + x.unsqueeze(1))\n",
    "        out = out.squeeze(1)\n",
    "        \n",
    "        Q2 = self.W_q2(out)\n",
    "        K2 = self.W_k2(out)\n",
    "        V2 = self.W_v2(out)\n",
    "        \n",
    "        sdpa_out = self.SDPA_h2(Q2, K2, V2)\n",
    "        out = self.BN2(sdpa_out.unsqueeze(1) + out.unsqueeze(1) )\n",
    "        out = out.squeeze(1)\n",
    "        \n",
    "        out = out.reshape(out.shape[0],-1)\n",
    "        \n",
    "        out = self.log_softmax(self.W_o(out))\n",
    "        \n",
    "        return out\n",
    "    \n",
    "    # def get_matricies(self, x):\n",
    "    #     Q = self.W_q(x)\n",
    "    #     K = self.W_k(x)\n",
    "    #     V = self.W_v(x)\n",
    "    #     y = self.SDPA(Q, K, V)\n",
    "\n",
    "    #     return Q,K,V,y,self.SDPA.attention_weights"
   ]
  },
  {
   "cell_type": "markdown",
   "metadata": {},
   "source": [
    "# Train loop"
   ]
  },
  {
   "cell_type": "code",
   "execution_count": 49,
   "metadata": {},
   "outputs": [
    {
     "name": "stdout",
     "output_type": "stream",
     "text": [
      "Epoch 0 - Training loss: 0.08564, Val loss: 0.12101\n",
      "Epoch 1 - Training loss: 0.07863, Val loss: 0.11981\n",
      "Epoch 2 - Training loss: 0.07696, Val loss: 0.11923\n",
      "Epoch 3 - Training loss: 0.07574, Val loss: 0.11782\n",
      "Epoch 4 - Training loss: 0.07455, Val loss: 0.11661\n",
      "Epoch 5 - Training loss: 0.07369, Val loss: 0.11952\n",
      "Epoch 6 - Training loss: 0.07233, Val loss: 0.11609\n",
      "Epoch 7 - Training loss: 0.07186, Val loss: 0.12063\n",
      "Epoch 8 - Training loss: 0.07095, Val loss: 0.11760\n",
      "Epoch 9 - Training loss: 0.07064, Val loss: 0.11725\n",
      "Epoch 10 - Training loss: 0.06983, Val loss: 0.11747\n",
      "Epoch 11 - Training loss: 0.06965, Val loss: 0.11970\n",
      "Epoch 12 - Training loss: 0.06907, Val loss: 0.11907\n",
      "Epoch 13 - Training loss: 0.06828, Val loss: 0.11564\n",
      "Epoch 14 - Training loss: 0.06784, Val loss: 0.11589\n",
      "Epoch 15 - Training loss: 0.06732, Val loss: 0.11615\n",
      "Epoch 16 - Training loss: 0.06748, Val loss: 0.11540\n",
      "Epoch 17 - Training loss: 0.06672, Val loss: 0.11759\n",
      "Epoch 18 - Training loss: 0.06687, Val loss: 0.11720\n",
      "Epoch 19 - Training loss: 0.06640, Val loss: 0.11616\n",
      "Epoch 20 - Training loss: 0.06639, Val loss: 0.11667\n",
      "Epoch 21 - Training loss: 0.06624, Val loss: 0.11586\n",
      "Epoch 22 - Training loss: 0.06585, Val loss: 0.11694\n",
      "Epoch 23 - Training loss: 0.06584, Val loss: 0.11618\n",
      "Epoch 24 - Training loss: 0.06569, Val loss: 0.11619\n",
      "Epoch 25 - Training loss: 0.06561, Val loss: 0.11705\n",
      "Epoch 26 - Training loss: 0.06546, Val loss: 0.11610\n",
      "Epoch 27 - Training loss: 0.06544, Val loss: 0.11656\n",
      "Epoch 28 - Training loss: 0.06536, Val loss: 0.11645\n",
      "Epoch 29 - Training loss: 0.06527, Val loss: 0.11627\n",
      "\n",
      "Training Time (in minutes) = 5.40\n"
     ]
    }
   ],
   "source": [
    "# Build the Neural Network\n",
    "input_size = 28  # 28x28 images flattened\n",
    "output_size = 10  # 10 classes for digits 0-9\n",
    "\n",
    "N_epoch = 240\n",
    "d1,d2=input_size,input_size\n",
    "model = SDPA_2H_seq_NN(input_size,output_size, device=device)\n",
    "model.load_state_dict(torch.load(f'model_backup\\SDPA_2H_seq_d{d1}-d{d2}_NN_epoch_{N_epoch}.pth', map_location=torch.device('cpu'))) #\n",
    "# print(model)\n",
    "model.to(device)\n",
    "\n",
    "# criterion = nn.CrossEntropyLoss()  # Use CrossEntropyLoss which includes softmax\n",
    "criterion = nn.NLLLoss()  # Use CrossEntropyLoss which includes softmax\n",
    "optimizer = optim.Adam(model.parameters(), lr=12e-4, weight_decay=10e-4)\n",
    "scheduler = lr_scheduler.StepLR(optimizer, step_size=10, gamma=0.96, verbose=False)\n",
    "\n",
    "# Track loss\n",
    "loss_list = []\n",
    "val_loss_list = []\n",
    "\n",
    "# Training the network\n",
    "epochs = 30\n",
    "time0 = time()\n",
    "\n",
    "for epoch in range(epochs):\n",
    "    running_loss = 0\n",
    "\n",
    "    # for images, labels in tqdm(trainloader, leave=False):\n",
    "    for images, labels in trainloader:\n",
    "        images = images.to(device)\n",
    "        labels = labels.to(device)\n",
    "\n",
    "        images = images.squeeze(1)                 \n",
    "\n",
    "        # Training pass\n",
    "        optimizer.zero_grad()\n",
    "        \n",
    "        output = model(images)\n",
    "        loss = criterion(output, labels)               \n",
    "        \n",
    "        # This is where the model learns by back propagating\n",
    "        loss.backward()\n",
    "        \n",
    "        # And optimizes its weights here\n",
    "        optimizer.step()\n",
    "        scheduler.step()\n",
    "        \n",
    "        running_loss += loss.item()\n",
    "    \n",
    "    # validation\n",
    "    model.eval()\n",
    "    with torch.no_grad():\n",
    "        for images, labels in val_loader:\n",
    "            images = images.to(device)\n",
    "            labels = labels.to(device)\n",
    "            images = images.squeeze(1)                 \n",
    "            \n",
    "            output = model(images)\n",
    "            val_loss = criterion(output, labels)\n",
    "    val_loss = val_loss / len(val_loader)\n",
    "    val_loss_list.append(val_loss)\n",
    "        \n",
    "    CE_curr = running_loss / len(trainloader)\n",
    "    loss_list.append(CE_curr)\n",
    "    # if (epoch%10)==0:\n",
    "    print(f\"Epoch {epoch} - Training loss: {CE_curr:.5f}, Val loss: {val_loss:.5f}\")\n",
    "    \n",
    "    \n",
    "print(f\"\\nTraining Time (in minutes) = {(time()-time0)/60:.2f}\")\n",
    "\n",
    "# Convert lists to numpy arrays\n",
    "loss_array = np.array(loss_list)\n",
    "\n",
    "val_loss = [val.cpu().numpy() for val in val_loss_list]\n",
    "\n",
    "val_loss_array = np.array(val_loss)\n",
    "\n",
    "# Save the model\n",
    "torch.save(model.state_dict(), f'model_backup\\SDPA_2H_seq_d{d1}-d{d2}_NN_epoch_{N_epoch+epochs}.pth')"
   ]
  },
  {
   "cell_type": "code",
   "execution_count": 50,
   "metadata": {},
   "outputs": [
    {
     "data": {
      "image/png": "[encoded data removed]",
      "text/plain": [
       "<Figure size 500x200 with 1 Axes>"
      ]
     },
     "metadata": {},
     "output_type": "display_data"
    }
   ],
   "source": [
    "\n",
    "# # Save the model\n",
    "# torch.save(model.state_dict(), f'model_backup\\SDPA_2H_d10_NN_epoch_{N_epoch+epochs}.pth')\n",
    "\n",
    "# Plot NLL_loss\n",
    "plt.figure(figsize=(5, 2))\n",
    "plt.plot(range(len(loss_array)), loss_array, label='Train')\n",
    "plt.plot(range(len(val_loss_array)), val_loss_array, label='Validation')\n",
    "\n",
    "plt.xlabel('Epochs')\n",
    "plt.ylabel('NNLoss')\n",
    "plt.title('NNLoss')\n",
    "plt.legend()\n",
    "plt.show()"
   ]
  },
  {
   "cell_type": "markdown",
   "metadata": {},
   "source": [
    "# NN test"
   ]
  },
  {
   "cell_type": "code",
   "execution_count": 51,
   "metadata": {},
   "outputs": [
    {
     "name": "stdout",
     "output_type": "stream",
     "text": [
      "Accuracy =  0.963\n"
     ]
    }
   ],
   "source": [
    "input_size = 28  # 28x28 images flattened\n",
    "output_size = 10  # 10 classes for digits 0-9\n",
    "\n",
    "model = SDPA_2H_seq_NN(input_size,output_size, device=device)\n",
    "model.load_state_dict(torch.load(f'model_backup\\SDPA_2H_seq_d{d1}-d{d2}_NN_epoch_{N_epoch+epochs}.pth', map_location=torch.device('cpu')))\n",
    "# model.load_state_dict(torch.load('model_backup\\sa_NN_epoch_1000.pth'))\n",
    "model.to(device)\n",
    "\n",
    "correct = 0\n",
    "total = 0\n",
    "\n",
    "model.eval()\n",
    "for X, y_true in test_loader:\n",
    "    X = X.squeeze(1) \n",
    "    X = X.to(device)\n",
    "    y_true = y_true.to(device)\n",
    "    \n",
    "    outputs = model(X)\n",
    "    _,y_pred = torch.max(outputs, dim=1)\n",
    "    total +=y_true.shape[0]\n",
    "    correct +=int((y_pred==y_true).sum())\n",
    "\n",
    "print(f\"Accuracy = {correct/total: .3f}\")"
   ]
  },
  {
   "cell_type": "markdown",
   "metadata": {},
   "source": [
    "# Visualization"
   ]
  },
  {
   "cell_type": "code",
   "execution_count": 58,
   "metadata": {},
   "outputs": [
    {
     "data": {
      "image/png": "[encoded data removed]",
      "text/plain": [
       "<Figure size 800x200 with 6 Axes>"
      ]
     },
     "metadata": {},
     "output_type": "display_data"
    }
   ],
   "source": [
    "model = sa_NN(input_size,output_size, device=device)\n",
    "model.load_state_dict(torch.load('model_backup\\sa_NN_epoch_1400.pth')) # map_location=torch.device('cpu')\n",
    "\n",
    "img, label = trainset[693]\n",
    "img = img.to(device)\n",
    "\n",
    "Q,K,V,Y,att_weights = model.get_matricies(img)\n",
    "\n",
    "fig, ax = plt.subplots(figsize=(8,2), nrows=1, ncols=6)\n",
    "plt.subplot(1,6,1)\n",
    "plt.imshow(Q.squeeze(0).detach().cpu())\n",
    "plt.subplot(1,6,2)\n",
    "plt.imshow(K.squeeze(0).detach().cpu())\n",
    "plt.subplot(1,6,3)\n",
    "plt.imshow(V.squeeze(0).detach().cpu())\n",
    "plt.subplot(1,6,4)\n",
    "plt.imshow(Y.squeeze(0).detach().cpu())\n",
    "plt.subplot(1,6,5)\n",
    "plt.imshow(att_weights.squeeze(0).detach().cpu())\n",
    "plt.subplot(1,6,6)\n",
    "plt.imshow(img.squeeze(0).detach().cpu())\n",
    "\n",
    "plt.subplots_adjust(wspace=0.5)"
   ]
  }
 ],
 "metadata": {
  "kernelspec": {
   "display_name": "Python 3",
   "language": "python",
   "name": "python3"
  },
  "language_info": {
   "codemirror_mode": {
    "name": "ipython",
    "version": 3
   },
   "file_extension": ".py",
   "mimetype": "text/x-python",
   "name": "python",
   "nbconvert_exporter": "python",
   "pygments_lexer": "ipython3",
   "version": "3.11.5"
  }
 },
 "nbformat": 4,
 "nbformat_minor": 2
}
