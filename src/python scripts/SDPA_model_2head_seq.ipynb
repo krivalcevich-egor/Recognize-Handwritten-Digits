{
 "cells": [
  {
   "cell_type": "markdown",
   "metadata": {},
   "source": [
    "# Library"
   ]
  },
  {
   "cell_type": "code",
   "execution_count": 1,
   "metadata": {},
   "outputs": [
    {
     "name": "stdout",
     "output_type": "stream",
     "text": [
      "Working on device cpu\n"
     ]
    }
   ],
   "source": [
    "import numpy as np\n",
    "import torch\n",
    "import torch.nn as nn\n",
    "from torch.optim import lr_scheduler\n",
    "\n",
    "import torchvision\n",
    "import matplotlib.pyplot as plt\n",
    "from time import time\n",
    "from torchvision import datasets, transforms\n",
    "from torch import nn, optim\n",
    "from tqdm import tqdm\n",
    "\n",
    "device = torch.device('cuda' if torch.cuda.is_available() else 'cpu')\n",
    "print(f\"Working on device {device}\")"
   ]
  },
  {
   "cell_type": "markdown",
   "metadata": {},
   "source": [
    "# Load dataset"
   ]
  },
  {
   "cell_type": "code",
   "execution_count": 2,
   "metadata": {},
   "outputs": [],
   "source": [
    "# Transform image to 1x784 and normalize colors\n",
    "transform = transforms.Compose([\n",
    "    transforms.ToTensor(),\n",
    "    transforms.Normalize((0.5,), (0.5,))\n",
    "])\n",
    "\n",
    "# Download dataset\n",
    "trainset = datasets.MNIST('dataset', download=False, train=True, transform=transform)\n",
    "valset_full = datasets.MNIST('dataset', download=False, train=False, transform=transform)\n",
    "\n",
    "val_size, test_size = 1000, 9000\n",
    "val_dataset, test_dataset = torch.utils.data.random_split(valset_full, [val_size, test_size], generator=torch.Generator().manual_seed(27))\n",
    "\n",
    "# Create dataloaders\n",
    "trainloader = torch.utils.data.DataLoader(trainset, batch_size=2000, shuffle=True)\n",
    "val_loader = torch.utils.data.DataLoader(val_dataset, batch_size=1000, shuffle=False)\n",
    "test_loader = torch.utils.data.DataLoader(test_dataset, batch_size=1000, shuffle=False)\n",
    "\n",
    "\n",
    "# for idx, (data, target) in enumerate(trainloader):\n",
    "#     data = data.to(device)\n",
    "#     target = target.to(device)\n",
    "\n",
    "# for idx, (data, target) in enumerate(valloader):\n",
    "#     data = data.to(device)\n",
    "#     target = target.to(device)    "
   ]
  },
  {
   "cell_type": "markdown",
   "metadata": {},
   "source": [
    "# Preliminary computation"
   ]
  },
  {
   "cell_type": "code",
   "execution_count": 66,
   "metadata": {},
   "outputs": [],
   "source": [
    "class DotProductAttention(nn.Module):\n",
    "    \"\"\"Scaled dot product attention.\"\"\"\n",
    "    # def __init__(self, dropout):\n",
    "    def __init__(self):\n",
    "        super().__init__()\n",
    "        # self.dropout = nn.Dropout(dropout)\n",
    "        self.soft_max = nn.Softmax(dim=2)\n",
    "        \n",
    "    # Shape of queries: (batch_size, img-height, d)\n",
    "    # Shape of keys: (batch_size, img-height, d)\n",
    "    # Shape of values: (batch_size, img-height, value dimension)\n",
    "    def forward(self, queries, keys, values):\n",
    "        d = queries.shape[2]\n",
    "        # Swap the last two dimensions of keys with keys.transpose(1, 2)\n",
    "        scores = torch.bmm(queries, keys.transpose(1, 2)) / np.sqrt(d)\n",
    "        self.attention_weights = self.soft_max(scores)\n",
    "        # return torch.bmm(self.dropout(self.attention_weights), values)\n",
    "        return torch.bmm(self.attention_weights, values)\n",
    "\n",
    "class PositionWiseFFN(nn.Module):  #@save\n",
    "    \"\"\"The positionwise feed-forward network.\"\"\"\n",
    "    def __init__(self, ffn_num_hiddens, ffn_num_outputs):\n",
    "        super().__init__()\n",
    "        self.dense1 = nn.LazyLinear(ffn_num_hiddens)\n",
    "        self.relu = nn.ReLU()\n",
    "        self.dense2 = nn.LazyLinear(ffn_num_outputs)\n",
    "\n",
    "    def forward(self, X):\n",
    "        return self.dense2(self.relu(self.dense1(X)))\n",
    "    \n",
    "class SDPA_2H_seq_NN(nn.Module):\n",
    "    def __init__(self, input_size, num_classes, device='cpu'):\n",
    "        super(SDPA_2H_seq_NN, self).__init__()\n",
    "        # d_model = input_size\n",
    "        \n",
    "        self.W_q1 = nn.Linear(input_size, input_size, device=device)\n",
    "        self.W_k1 = nn.Linear(input_size, input_size, device=device)\n",
    "        self.W_v1 = nn.Linear(input_size, input_size, device=device)\n",
    "        \n",
    "        self.PFFN = PositionWiseFFN(input_size*input_size,input_size*input_size)\n",
    "        \n",
    "        d_model = input_size\n",
    "        self.W_q2 = nn.Linear(input_size, d_model, device=device)\n",
    "        self.W_k2 = nn.Linear(input_size, d_model, device=device)\n",
    "        self.W_v2 = nn.Linear(input_size, d_model, device=device)\n",
    "        \n",
    "        self.W_o = nn.Linear(input_size*d_model, num_classes, device=device)\n",
    "        \n",
    "        self.num_classes = num_classes\n",
    "        \n",
    "        self.SDPA_h1 = DotProductAttention()\n",
    "        self.SDPA_h2 = DotProductAttention()\n",
    "\n",
    "        self.log_softmax = nn.LogSoftmax(dim=1)\n",
    "\n",
    "        self.BN1 = nn.LayerNorm((1,input_size,input_size))\n",
    "        self.BN2 = nn.LayerNorm((1,input_size,d_model))\n",
    "        \n",
    "        nn.init.xavier_uniform_(self.W_q1.weight)\n",
    "        nn.init.xavier_uniform_(self.W_k1.weight)\n",
    "        nn.init.xavier_uniform_(self.W_v1.weight)\n",
    "        nn.init.xavier_uniform_(self.W_q2.weight)\n",
    "        nn.init.xavier_uniform_(self.W_k2.weight)\n",
    "        nn.init.xavier_uniform_(self.W_v2.weight)\n",
    "        nn.init.xavier_uniform_(self.W_o.weight)\n",
    "\n",
    "    def forward(self, x):\n",
    "        # Multiply input by weights and add biases\n",
    "        \n",
    "        Q1 = self.W_q1(x)\n",
    "        K1 = self.W_k1(x)\n",
    "        V1 = self.W_v1(x)\n",
    "        \n",
    "        sdpa_out = self.SDPA_h1(Q1, K1, V1)\n",
    "        out = self.BN1(sdpa_out.unsqueeze(1) + x.unsqueeze(1))\n",
    "        out = out.squeeze(1)\n",
    "        \n",
    "        out_flat = out.view(out.shape[0],-1)\n",
    "        pffn_out = self.PFFN(out_flat)\n",
    "        out = pffn_out.view(out.shape)\n",
    "        \n",
    "        Q2 = self.W_q2(out)\n",
    "        K2 = self.W_k2(out)\n",
    "        V2 = self.W_v2(out)\n",
    "        \n",
    "        sdpa_out = self.SDPA_h2(Q2, K2, V2)\n",
    "        out = self.BN2(sdpa_out.unsqueeze(1) + out.unsqueeze(1) )\n",
    "        out = out.squeeze(1)\n",
    "        \n",
    "        out = out.reshape(out.shape[0],-1)\n",
    "        \n",
    "        out = self.log_softmax(self.W_o(out))\n",
    "        \n",
    "        return out\n",
    "    \n",
    "    # def get_matricies(self, x):\n",
    "    #     Q = self.W_q(x)\n",
    "    #     K = self.W_k(x)\n",
    "    #     V = self.W_v(x)\n",
    "    #     y = self.SDPA(Q, K, V)\n",
    "\n",
    "    #     return Q,K,V,y,self.SDPA.attention_weights"
   ]
  },
  {
   "cell_type": "markdown",
   "metadata": {},
   "source": [
    "# Train loop"
   ]
  },
  {
   "cell_type": "code",
   "execution_count": 67,
   "metadata": {},
   "outputs": [
    {
     "name": "stderr",
     "output_type": "stream",
     "text": [
      "c:\\Users\\m.vashkevich\\AppData\\Local\\Programs\\Python\\Python311\\Lib\\site-packages\\torch\\nn\\modules\\lazy.py:180: UserWarning: Lazy modules are a new feature under heavy development so changes to the API or functionality can happen at any moment.\n",
      "  warnings.warn('Lazy modules are a new feature under heavy development '\n"
     ]
    },
    {
     "name": "stdout",
     "output_type": "stream",
     "text": [
      "Epoch 0 - Training loss: 2.63342, Val loss: 0.70175\n",
      "Epoch 1 - Training loss: 0.37506, Val loss: 0.21966\n",
      "Epoch 2 - Training loss: 0.17247, Val loss: 0.14327\n",
      "Epoch 3 - Training loss: 0.11387, Val loss: 0.11297\n",
      "Epoch 4 - Training loss: 0.07987, Val loss: 0.09253\n",
      "Epoch 5 - Training loss: 0.06791, Val loss: 0.09018\n",
      "Epoch 6 - Training loss: 0.05549, Val loss: 0.08649\n",
      "Epoch 7 - Training loss: 0.04212, Val loss: 0.07109\n",
      "Epoch 8 - Training loss: 0.03595, Val loss: 0.06969\n",
      "Epoch 9 - Training loss: 0.02832, Val loss: 0.07230\n",
      "Epoch 10 - Training loss: 0.02561, Val loss: 0.09970\n",
      "Epoch 11 - Training loss: 0.02167, Val loss: 0.07849\n",
      "Epoch 12 - Training loss: 0.01677, Val loss: 0.09489\n",
      "Epoch 13 - Training loss: 0.01764, Val loss: 0.07888\n",
      "Epoch 14 - Training loss: 0.01671, Val loss: 0.07441\n",
      "Epoch 15 - Training loss: 0.01215, Val loss: 0.09075\n",
      "Epoch 16 - Training loss: 0.01096, Val loss: 0.09017\n",
      "Epoch 17 - Training loss: 0.01079, Val loss: 0.07983\n",
      "Epoch 18 - Training loss: 0.00877, Val loss: 0.08412\n",
      "Epoch 19 - Training loss: 0.00679, Val loss: 0.10089\n",
      "Epoch 20 - Training loss: 0.00570, Val loss: 0.11081\n",
      "Epoch 21 - Training loss: 0.00633, Val loss: 0.09384\n",
      "Epoch 22 - Training loss: 0.00673, Val loss: 0.09768\n",
      "Epoch 23 - Training loss: 0.00699, Val loss: 0.09844\n",
      "Epoch 24 - Training loss: 0.00525, Val loss: 0.09772\n",
      "Epoch 25 - Training loss: 0.00261, Val loss: 0.08847\n",
      "Epoch 26 - Training loss: 0.00141, Val loss: 0.09657\n",
      "Epoch 27 - Training loss: 0.00073, Val loss: 0.09230\n",
      "Epoch 28 - Training loss: 0.00054, Val loss: 0.08784\n",
      "Epoch 29 - Training loss: 0.00051, Val loss: 0.08436\n",
      "Epoch 30 - Training loss: 0.00052, Val loss: 0.08393\n"
     ]
    },
    {
     "ename": "KeyboardInterrupt",
     "evalue": "",
     "output_type": "error",
     "traceback": [
      "\u001b[1;31m---------------------------------------------------------------------------\u001b[0m",
      "\u001b[1;31mKeyboardInterrupt\u001b[0m                         Traceback (most recent call last)",
      "Cell \u001b[1;32mIn[67], line 42\u001b[0m\n\u001b[0;32m     39\u001b[0m loss \u001b[38;5;241m=\u001b[39m criterion(output, labels)               \n\u001b[0;32m     41\u001b[0m \u001b[38;5;66;03m# This is where the model learns by back propagating\u001b[39;00m\n\u001b[1;32m---> 42\u001b[0m \u001b[43mloss\u001b[49m\u001b[38;5;241;43m.\u001b[39;49m\u001b[43mbackward\u001b[49m\u001b[43m(\u001b[49m\u001b[43m)\u001b[49m\n\u001b[0;32m     44\u001b[0m \u001b[38;5;66;03m# And optimizes its weights here\u001b[39;00m\n\u001b[0;32m     45\u001b[0m optimizer\u001b[38;5;241m.\u001b[39mstep()\n",
      "File \u001b[1;32mc:\\Users\\m.vashkevich\\AppData\\Local\\Programs\\Python\\Python311\\Lib\\site-packages\\torch\\_tensor.py:492\u001b[0m, in \u001b[0;36mTensor.backward\u001b[1;34m(self, gradient, retain_graph, create_graph, inputs)\u001b[0m\n\u001b[0;32m    482\u001b[0m \u001b[38;5;28;01mif\u001b[39;00m has_torch_function_unary(\u001b[38;5;28mself\u001b[39m):\n\u001b[0;32m    483\u001b[0m     \u001b[38;5;28;01mreturn\u001b[39;00m handle_torch_function(\n\u001b[0;32m    484\u001b[0m         Tensor\u001b[38;5;241m.\u001b[39mbackward,\n\u001b[0;32m    485\u001b[0m         (\u001b[38;5;28mself\u001b[39m,),\n\u001b[1;32m   (...)\u001b[0m\n\u001b[0;32m    490\u001b[0m         inputs\u001b[38;5;241m=\u001b[39minputs,\n\u001b[0;32m    491\u001b[0m     )\n\u001b[1;32m--> 492\u001b[0m \u001b[43mtorch\u001b[49m\u001b[38;5;241;43m.\u001b[39;49m\u001b[43mautograd\u001b[49m\u001b[38;5;241;43m.\u001b[39;49m\u001b[43mbackward\u001b[49m\u001b[43m(\u001b[49m\n\u001b[0;32m    493\u001b[0m \u001b[43m    \u001b[49m\u001b[38;5;28;43mself\u001b[39;49m\u001b[43m,\u001b[49m\u001b[43m \u001b[49m\u001b[43mgradient\u001b[49m\u001b[43m,\u001b[49m\u001b[43m \u001b[49m\u001b[43mretain_graph\u001b[49m\u001b[43m,\u001b[49m\u001b[43m \u001b[49m\u001b[43mcreate_graph\u001b[49m\u001b[43m,\u001b[49m\u001b[43m \u001b[49m\u001b[43minputs\u001b[49m\u001b[38;5;241;43m=\u001b[39;49m\u001b[43minputs\u001b[49m\n\u001b[0;32m    494\u001b[0m \u001b[43m\u001b[49m\u001b[43m)\u001b[49m\n",
      "File \u001b[1;32mc:\\Users\\m.vashkevich\\AppData\\Local\\Programs\\Python\\Python311\\Lib\\site-packages\\torch\\autograd\\__init__.py:251\u001b[0m, in \u001b[0;36mbackward\u001b[1;34m(tensors, grad_tensors, retain_graph, create_graph, grad_variables, inputs)\u001b[0m\n\u001b[0;32m    246\u001b[0m     retain_graph \u001b[38;5;241m=\u001b[39m create_graph\n\u001b[0;32m    248\u001b[0m \u001b[38;5;66;03m# The reason we repeat the same comment below is that\u001b[39;00m\n\u001b[0;32m    249\u001b[0m \u001b[38;5;66;03m# some Python versions print out the first line of a multi-line function\u001b[39;00m\n\u001b[0;32m    250\u001b[0m \u001b[38;5;66;03m# calls in the traceback and some print out the last line\u001b[39;00m\n\u001b[1;32m--> 251\u001b[0m \u001b[43mVariable\u001b[49m\u001b[38;5;241;43m.\u001b[39;49m\u001b[43m_execution_engine\u001b[49m\u001b[38;5;241;43m.\u001b[39;49m\u001b[43mrun_backward\u001b[49m\u001b[43m(\u001b[49m\u001b[43m  \u001b[49m\u001b[38;5;66;43;03m# Calls into the C++ engine to run the backward pass\u001b[39;49;00m\n\u001b[0;32m    252\u001b[0m \u001b[43m    \u001b[49m\u001b[43mtensors\u001b[49m\u001b[43m,\u001b[49m\n\u001b[0;32m    253\u001b[0m \u001b[43m    \u001b[49m\u001b[43mgrad_tensors_\u001b[49m\u001b[43m,\u001b[49m\n\u001b[0;32m    254\u001b[0m \u001b[43m    \u001b[49m\u001b[43mretain_graph\u001b[49m\u001b[43m,\u001b[49m\n\u001b[0;32m    255\u001b[0m \u001b[43m    \u001b[49m\u001b[43mcreate_graph\u001b[49m\u001b[43m,\u001b[49m\n\u001b[0;32m    256\u001b[0m \u001b[43m    \u001b[49m\u001b[43minputs\u001b[49m\u001b[43m,\u001b[49m\n\u001b[0;32m    257\u001b[0m \u001b[43m    \u001b[49m\u001b[43mallow_unreachable\u001b[49m\u001b[38;5;241;43m=\u001b[39;49m\u001b[38;5;28;43;01mTrue\u001b[39;49;00m\u001b[43m,\u001b[49m\n\u001b[0;32m    258\u001b[0m \u001b[43m    \u001b[49m\u001b[43maccumulate_grad\u001b[49m\u001b[38;5;241;43m=\u001b[39;49m\u001b[38;5;28;43;01mTrue\u001b[39;49;00m\u001b[43m,\u001b[49m\n\u001b[0;32m    259\u001b[0m \u001b[43m\u001b[49m\u001b[43m)\u001b[49m\n",
      "\u001b[1;31mKeyboardInterrupt\u001b[0m: "
     ]
    }
   ],
   "source": [
    "# Build the Neural Network\n",
    "input_size = 28  # 28x28 images flattened\n",
    "output_size = 10  # 10 classes for digits 0-9\n",
    "\n",
    "N_epoch = 80\n",
    "d1,d2=input_size,input_size\n",
    "model = SDPA_2H_seq_NN(input_size,output_size, device=device)\n",
    "model.load_state_dict(torch.load(f'model_backup\\SDPA_2H_seq_d{d1}-d{d2}_pffn_epoch_{N_epoch}.pth', map_location=torch.device('cpu'))) #\n",
    "# print(model)\n",
    "model.to(device)\n",
    "\n",
    "# criterion = nn.CrossEntropyLoss()  # Use CrossEntropyLoss which includes softmax\n",
    "criterion = nn.NLLLoss()  # Use CrossEntropyLoss which includes softmax\n",
    "optimizer = optim.Adam(model.parameters(), lr=30e-4, weight_decay=10e-4)\n",
    "scheduler = lr_scheduler.StepLR(optimizer, step_size=15, gamma=0.97, verbose=False)\n",
    "\n",
    "# Track loss\n",
    "loss_list = []\n",
    "val_loss_list = []\n",
    "\n",
    "# Training the network\n",
    "epochs = 300\n",
    "time0 = time()\n",
    "\n",
    "for epoch in range(epochs):\n",
    "    running_loss = 0\n",
    "\n",
    "    # for images, labels in tqdm(trainloader, leave=False):\n",
    "    for images, labels in trainloader:\n",
    "        images = images.to(device)\n",
    "        labels = labels.to(device)\n",
    "\n",
    "        images = images.squeeze(1)                 \n",
    "\n",
    "        # Training pass\n",
    "        optimizer.zero_grad()\n",
    "        \n",
    "        output = model(images)\n",
    "        loss = criterion(output, labels)               \n",
    "        \n",
    "        # This is where the model learns by back propagating\n",
    "        loss.backward()\n",
    "        \n",
    "        # And optimizes its weights here\n",
    "        optimizer.step()\n",
    "        scheduler.step()\n",
    "        \n",
    "        running_loss += loss.item()\n",
    "    \n",
    "    # validation\n",
    "    model.eval()\n",
    "    with torch.no_grad():\n",
    "        for images, labels in val_loader:\n",
    "            images = images.to(device)\n",
    "            labels = labels.to(device)\n",
    "            images = images.squeeze(1)                 \n",
    "            \n",
    "            output = model(images)\n",
    "            val_loss = criterion(output, labels)\n",
    "    val_loss = val_loss / len(val_loader)\n",
    "    val_loss_list.append(val_loss)\n",
    "        \n",
    "    CE_curr = running_loss / len(trainloader)\n",
    "    loss_list.append(CE_curr)\n",
    "    # if (epoch%10)==0:\n",
    "    print(f\"Epoch {epoch} - Training loss: {CE_curr:.5f}, Val loss: {val_loss:.5f}\")\n",
    "    \n",
    "    \n",
    "print(f\"\\nTraining Time (in minutes) = {(time()-time0)/60:.2f}\")\n",
    "\n",
    "# Convert lists to numpy arrays\n",
    "loss_array = np.array(loss_list)\n",
    "\n",
    "val_loss = [val.cpu().numpy() for val in val_loss_list]\n",
    "\n",
    "val_loss_array = np.array(val_loss)\n",
    "\n",
    "# Save the model\n",
    "torch.save(model.state_dict(), f'model_backup\\SDPA_2H_seq_d{d1}-d{d2}_pffn_epoch_{N_epoch+epochs}.pth')"
   ]
  },
  {
   "cell_type": "code",
   "execution_count": null,
   "metadata": {},
   "outputs": [
    {
     "data": {
      "image/png": "[encoded data removed]",
      "text/plain": [
       "<Figure size 500x200 with 1 Axes>"
      ]
     },
     "metadata": {},
     "output_type": "display_data"
    }
   ],
   "source": [
    "# epochs = 30\n",
    "# N_epoch = 0\n",
    "# # Save the model\n",
    "# torch.save(model.state_dict(), f'model_backup\\SDPA_2H_seq_d{d1}-d{d2}_pffn_epoch_{N_epoch+epochs}.pth')\n",
    "\n",
    "# Plot NLL_loss\n",
    "plt.figure(figsize=(5, 2))\n",
    "plt.plot(range(len(loss_array)), loss_array, label='Train')\n",
    "plt.plot(range(len(val_loss_array)), val_loss_array, label='Validation')\n",
    "\n",
    "plt.xlabel('Epochs')\n",
    "plt.ylabel('NNLoss')\n",
    "plt.title('NNLoss')\n",
    "plt.legend()\n",
    "plt.show()"
   ]
  },
  {
   "cell_type": "markdown",
   "metadata": {},
   "source": [
    "# NN test"
   ]
  },
  {
   "cell_type": "code",
   "execution_count": 70,
   "metadata": {},
   "outputs": [
    {
     "name": "stdout",
     "output_type": "stream",
     "text": [
      "Accuracy =  0.983\n"
     ]
    }
   ],
   "source": [
    "input_size = 28  # 28x28 images flattened\n",
    "output_size = 10  # 10 classes for digits 0-9\n",
    "\n",
    "model = SDPA_2H_seq_NN(input_size,output_size, device=device)\n",
    "model.load_state_dict(torch.load(f'model_backup\\SDPA_2H_seq_d{d1}-d{d2}_pffn_epoch_{N_epoch+epochs}.pth', map_location=torch.device('cpu')))\n",
    "# model.load_state_dict(torch.load('model_backup\\sa_NN_epoch_1000.pth'))\n",
    "model.to(device)\n",
    "\n",
    "correct = 0\n",
    "total = 0\n",
    "\n",
    "model.eval()\n",
    "for X, y_true in test_loader:\n",
    "    X = X.squeeze(1) \n",
    "    X = X.to(device)\n",
    "    y_true = y_true.to(device)\n",
    "    \n",
    "    outputs = model(X)\n",
    "    _,y_pred = torch.max(outputs, dim=1)\n",
    "    total +=y_true.shape[0]\n",
    "    correct +=int((y_pred==y_true).sum())\n",
    "\n",
    "print(f\"Accuracy = {correct/total: .3f}\")"
   ]
  },
  {
   "cell_type": "markdown",
   "metadata": {},
   "source": [
    "# Visualization"
   ]
  },
  {
   "cell_type": "code",
   "execution_count": 58,
   "metadata": {},
   "outputs": [
    {
     "data": {
      "image/png": "[encoded data removed]",
      "text/plain": [
       "<Figure size 800x200 with 6 Axes>"
      ]
     },
     "metadata": {},
     "output_type": "display_data"
    }
   ],
   "source": [
    "model = sa_NN(input_size,output_size, device=device)\n",
    "model.load_state_dict(torch.load('model_backup\\sa_NN_epoch_1400.pth')) # map_location=torch.device('cpu')\n",
    "\n",
    "img, label = trainset[693]\n",
    "img = img.to(device)\n",
    "\n",
    "Q,K,V,Y,att_weights = model.get_matricies(img)\n",
    "\n",
    "fig, ax = plt.subplots(figsize=(8,2), nrows=1, ncols=6)\n",
    "plt.subplot(1,6,1)\n",
    "plt.imshow(Q.squeeze(0).detach().cpu())\n",
    "plt.subplot(1,6,2)\n",
    "plt.imshow(K.squeeze(0).detach().cpu())\n",
    "plt.subplot(1,6,3)\n",
    "plt.imshow(V.squeeze(0).detach().cpu())\n",
    "plt.subplot(1,6,4)\n",
    "plt.imshow(Y.squeeze(0).detach().cpu())\n",
    "plt.subplot(1,6,5)\n",
    "plt.imshow(att_weights.squeeze(0).detach().cpu())\n",
    "plt.subplot(1,6,6)\n",
    "plt.imshow(img.squeeze(0).detach().cpu())\n",
    "\n",
    "plt.subplots_adjust(wspace=0.5)"
   ]
  }
 ],
 "metadata": {
  "kernelspec": {
   "display_name": "Python 3",
   "language": "python",
   "name": "python3"
  },
  "language_info": {
   "codemirror_mode": {
    "name": "ipython",
    "version": 3
   },
   "file_extension": ".py",
   "mimetype": "text/x-python",
   "name": "python",
   "nbconvert_exporter": "python",
   "pygments_lexer": "ipython3",
   "version": "3.11.5"
  }
 },
 "nbformat": 4,
 "nbformat_minor": 2
}
